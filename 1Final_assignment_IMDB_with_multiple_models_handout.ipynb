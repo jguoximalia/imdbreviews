{
  "nbformat": 4,
  "nbformat_minor": 0,
  "metadata": {
    "colab": {
      "name": "1Final_assignment_IMDB_with_multiple_models_handout.ipynb",
      "provenance": [],
      "collapsed_sections": []
    },
    "kernelspec": {
      "display_name": "Python 3",
      "language": "python",
      "name": "python3"
    },
    "language_info": {
      "codemirror_mode": {
        "name": "ipython",
        "version": 3
      },
      "file_extension": ".py",
      "mimetype": "text/x-python",
      "name": "python",
      "nbconvert_exporter": "python",
      "pygments_lexer": "ipython3",
      "version": "3.7.9"
    },
    "toc": {
      "base_numbering": 1,
      "nav_menu": {},
      "number_sections": true,
      "sideBar": true,
      "skip_h1_title": false,
      "title_cell": "Table of Contents",
      "title_sidebar": "Contents",
      "toc_cell": false,
      "toc_position": {},
      "toc_section_display": true,
      "toc_window_display": false
    },
    "varInspector": {
      "cols": {
        "lenName": 16,
        "lenType": 16,
        "lenVar": 40
      },
      "kernels_config": {
        "python": {
          "delete_cmd_postfix": "",
          "delete_cmd_prefix": "del ",
          "library": "var_list.py",
          "varRefreshCmd": "print(var_dic_list())"
        },
        "r": {
          "delete_cmd_postfix": ") ",
          "delete_cmd_prefix": "rm(",
          "library": "var_list.r",
          "varRefreshCmd": "cat(var_dic_list()) "
        }
      },
      "types_to_exclude": [
        "module",
        "function",
        "builtin_function_or_method",
        "instance",
        "_Feature"
      ],
      "window_display": false
    },
    "widgets": {
      "application/vnd.jupyter.widget-state+json": {
        "1f59495f20e443fba669ad4648994da3": {
          "model_module": "@jupyter-widgets/controls",
          "model_name": "HBoxModel",
          "state": {
            "_view_name": "HBoxView",
            "_dom_classes": [],
            "_model_name": "HBoxModel",
            "_view_module": "@jupyter-widgets/controls",
            "_model_module_version": "1.5.0",
            "_view_count": null,
            "_view_module_version": "1.5.0",
            "box_style": "",
            "layout": "IPY_MODEL_ebf85aa88eb2417e929aeffe4cdb5542",
            "_model_module": "@jupyter-widgets/controls",
            "children": [
              "IPY_MODEL_11dc2493b4b044209082635b9600b5bc",
              "IPY_MODEL_35e17f7ca95846e9b2e0f4f316911edd"
            ]
          }
        },
        "ebf85aa88eb2417e929aeffe4cdb5542": {
          "model_module": "@jupyter-widgets/base",
          "model_name": "LayoutModel",
          "state": {
            "_view_name": "LayoutView",
            "grid_template_rows": null,
            "right": null,
            "justify_content": null,
            "_view_module": "@jupyter-widgets/base",
            "overflow": null,
            "_model_module_version": "1.2.0",
            "_view_count": null,
            "flex_flow": null,
            "width": null,
            "min_width": null,
            "border": null,
            "align_items": null,
            "bottom": null,
            "_model_module": "@jupyter-widgets/base",
            "top": null,
            "grid_column": null,
            "overflow_y": null,
            "overflow_x": null,
            "grid_auto_flow": null,
            "grid_area": null,
            "grid_template_columns": null,
            "flex": null,
            "_model_name": "LayoutModel",
            "justify_items": null,
            "grid_row": null,
            "max_height": null,
            "align_content": null,
            "visibility": null,
            "align_self": null,
            "height": null,
            "min_height": null,
            "padding": null,
            "grid_auto_rows": null,
            "grid_gap": null,
            "max_width": null,
            "order": null,
            "_view_module_version": "1.2.0",
            "grid_template_areas": null,
            "object_position": null,
            "object_fit": null,
            "grid_auto_columns": null,
            "margin": null,
            "display": null,
            "left": null
          }
        },
        "11dc2493b4b044209082635b9600b5bc": {
          "model_module": "@jupyter-widgets/controls",
          "model_name": "FloatProgressModel",
          "state": {
            "_view_name": "ProgressView",
            "style": "IPY_MODEL_f6022ff684004893ac6cf52502127cf6",
            "_dom_classes": [],
            "description": "Dl Completed...: 100%",
            "_model_name": "FloatProgressModel",
            "bar_style": "success",
            "max": 1,
            "_view_module": "@jupyter-widgets/controls",
            "_model_module_version": "1.5.0",
            "value": 1,
            "_view_count": null,
            "_view_module_version": "1.5.0",
            "orientation": "horizontal",
            "min": 0,
            "description_tooltip": null,
            "_model_module": "@jupyter-widgets/controls",
            "layout": "IPY_MODEL_479747f5205941ec80d49e046d633bb3"
          }
        },
        "35e17f7ca95846e9b2e0f4f316911edd": {
          "model_module": "@jupyter-widgets/controls",
          "model_name": "HTMLModel",
          "state": {
            "_view_name": "HTMLView",
            "style": "IPY_MODEL_2939ea14772d4b05ab359d98151a8ab1",
            "_dom_classes": [],
            "description": "",
            "_model_name": "HTMLModel",
            "placeholder": "​",
            "_view_module": "@jupyter-widgets/controls",
            "_model_module_version": "1.5.0",
            "value": " 1/1 [00:05&lt;00:00,  5.44s/ url]",
            "_view_count": null,
            "_view_module_version": "1.5.0",
            "description_tooltip": null,
            "_model_module": "@jupyter-widgets/controls",
            "layout": "IPY_MODEL_5e218809757847cf9ec06e49892d077f"
          }
        },
        "f6022ff684004893ac6cf52502127cf6": {
          "model_module": "@jupyter-widgets/controls",
          "model_name": "ProgressStyleModel",
          "state": {
            "_view_name": "StyleView",
            "_model_name": "ProgressStyleModel",
            "description_width": "initial",
            "_view_module": "@jupyter-widgets/base",
            "_model_module_version": "1.5.0",
            "_view_count": null,
            "_view_module_version": "1.2.0",
            "bar_color": null,
            "_model_module": "@jupyter-widgets/controls"
          }
        },
        "479747f5205941ec80d49e046d633bb3": {
          "model_module": "@jupyter-widgets/base",
          "model_name": "LayoutModel",
          "state": {
            "_view_name": "LayoutView",
            "grid_template_rows": null,
            "right": null,
            "justify_content": null,
            "_view_module": "@jupyter-widgets/base",
            "overflow": null,
            "_model_module_version": "1.2.0",
            "_view_count": null,
            "flex_flow": null,
            "width": null,
            "min_width": null,
            "border": null,
            "align_items": null,
            "bottom": null,
            "_model_module": "@jupyter-widgets/base",
            "top": null,
            "grid_column": null,
            "overflow_y": null,
            "overflow_x": null,
            "grid_auto_flow": null,
            "grid_area": null,
            "grid_template_columns": null,
            "flex": null,
            "_model_name": "LayoutModel",
            "justify_items": null,
            "grid_row": null,
            "max_height": null,
            "align_content": null,
            "visibility": null,
            "align_self": null,
            "height": null,
            "min_height": null,
            "padding": null,
            "grid_auto_rows": null,
            "grid_gap": null,
            "max_width": null,
            "order": null,
            "_view_module_version": "1.2.0",
            "grid_template_areas": null,
            "object_position": null,
            "object_fit": null,
            "grid_auto_columns": null,
            "margin": null,
            "display": null,
            "left": null
          }
        },
        "2939ea14772d4b05ab359d98151a8ab1": {
          "model_module": "@jupyter-widgets/controls",
          "model_name": "DescriptionStyleModel",
          "state": {
            "_view_name": "StyleView",
            "_model_name": "DescriptionStyleModel",
            "description_width": "",
            "_view_module": "@jupyter-widgets/base",
            "_model_module_version": "1.5.0",
            "_view_count": null,
            "_view_module_version": "1.2.0",
            "_model_module": "@jupyter-widgets/controls"
          }
        },
        "5e218809757847cf9ec06e49892d077f": {
          "model_module": "@jupyter-widgets/base",
          "model_name": "LayoutModel",
          "state": {
            "_view_name": "LayoutView",
            "grid_template_rows": null,
            "right": null,
            "justify_content": null,
            "_view_module": "@jupyter-widgets/base",
            "overflow": null,
            "_model_module_version": "1.2.0",
            "_view_count": null,
            "flex_flow": null,
            "width": null,
            "min_width": null,
            "border": null,
            "align_items": null,
            "bottom": null,
            "_model_module": "@jupyter-widgets/base",
            "top": null,
            "grid_column": null,
            "overflow_y": null,
            "overflow_x": null,
            "grid_auto_flow": null,
            "grid_area": null,
            "grid_template_columns": null,
            "flex": null,
            "_model_name": "LayoutModel",
            "justify_items": null,
            "grid_row": null,
            "max_height": null,
            "align_content": null,
            "visibility": null,
            "align_self": null,
            "height": null,
            "min_height": null,
            "padding": null,
            "grid_auto_rows": null,
            "grid_gap": null,
            "max_width": null,
            "order": null,
            "_view_module_version": "1.2.0",
            "grid_template_areas": null,
            "object_position": null,
            "object_fit": null,
            "grid_auto_columns": null,
            "margin": null,
            "display": null,
            "left": null
          }
        },
        "cfa0cae9434c47c4b989e1d774683b86": {
          "model_module": "@jupyter-widgets/controls",
          "model_name": "HBoxModel",
          "state": {
            "_view_name": "HBoxView",
            "_dom_classes": [],
            "_model_name": "HBoxModel",
            "_view_module": "@jupyter-widgets/controls",
            "_model_module_version": "1.5.0",
            "_view_count": null,
            "_view_module_version": "1.5.0",
            "box_style": "",
            "layout": "IPY_MODEL_182e585711544f9d9fedeb9a7fa5daef",
            "_model_module": "@jupyter-widgets/controls",
            "children": [
              "IPY_MODEL_1afa9fb2c45a48dd8dd2a1989dab145d",
              "IPY_MODEL_4e50c221ab9f4d89bd35ee63acb7af27"
            ]
          }
        },
        "182e585711544f9d9fedeb9a7fa5daef": {
          "model_module": "@jupyter-widgets/base",
          "model_name": "LayoutModel",
          "state": {
            "_view_name": "LayoutView",
            "grid_template_rows": null,
            "right": null,
            "justify_content": null,
            "_view_module": "@jupyter-widgets/base",
            "overflow": null,
            "_model_module_version": "1.2.0",
            "_view_count": null,
            "flex_flow": null,
            "width": null,
            "min_width": null,
            "border": null,
            "align_items": null,
            "bottom": null,
            "_model_module": "@jupyter-widgets/base",
            "top": null,
            "grid_column": null,
            "overflow_y": null,
            "overflow_x": null,
            "grid_auto_flow": null,
            "grid_area": null,
            "grid_template_columns": null,
            "flex": null,
            "_model_name": "LayoutModel",
            "justify_items": null,
            "grid_row": null,
            "max_height": null,
            "align_content": null,
            "visibility": null,
            "align_self": null,
            "height": null,
            "min_height": null,
            "padding": null,
            "grid_auto_rows": null,
            "grid_gap": null,
            "max_width": null,
            "order": null,
            "_view_module_version": "1.2.0",
            "grid_template_areas": null,
            "object_position": null,
            "object_fit": null,
            "grid_auto_columns": null,
            "margin": null,
            "display": null,
            "left": null
          }
        },
        "1afa9fb2c45a48dd8dd2a1989dab145d": {
          "model_module": "@jupyter-widgets/controls",
          "model_name": "FloatProgressModel",
          "state": {
            "_view_name": "ProgressView",
            "style": "IPY_MODEL_a82ec08aeeb1478c93966cb2c6afd0b0",
            "_dom_classes": [],
            "description": "Dl Size...: 100%",
            "_model_name": "FloatProgressModel",
            "bar_style": "success",
            "max": 1,
            "_view_module": "@jupyter-widgets/controls",
            "_model_module_version": "1.5.0",
            "value": 1,
            "_view_count": null,
            "_view_module_version": "1.5.0",
            "orientation": "horizontal",
            "min": 0,
            "description_tooltip": null,
            "_model_module": "@jupyter-widgets/controls",
            "layout": "IPY_MODEL_6436e3ad2a22412fab1f7f3224b19b9f"
          }
        },
        "4e50c221ab9f4d89bd35ee63acb7af27": {
          "model_module": "@jupyter-widgets/controls",
          "model_name": "HTMLModel",
          "state": {
            "_view_name": "HTMLView",
            "style": "IPY_MODEL_e5fd960c709248f79178d0c2ef187e7d",
            "_dom_classes": [],
            "description": "",
            "_model_name": "HTMLModel",
            "placeholder": "​",
            "_view_module": "@jupyter-widgets/controls",
            "_model_module_version": "1.5.0",
            "value": " 80/80 [00:05&lt;00:00, 14.81 MiB/s]",
            "_view_count": null,
            "_view_module_version": "1.5.0",
            "description_tooltip": null,
            "_model_module": "@jupyter-widgets/controls",
            "layout": "IPY_MODEL_4999d81e757e46ce876970ba42f8714b"
          }
        },
        "a82ec08aeeb1478c93966cb2c6afd0b0": {
          "model_module": "@jupyter-widgets/controls",
          "model_name": "ProgressStyleModel",
          "state": {
            "_view_name": "StyleView",
            "_model_name": "ProgressStyleModel",
            "description_width": "initial",
            "_view_module": "@jupyter-widgets/base",
            "_model_module_version": "1.5.0",
            "_view_count": null,
            "_view_module_version": "1.2.0",
            "bar_color": null,
            "_model_module": "@jupyter-widgets/controls"
          }
        },
        "6436e3ad2a22412fab1f7f3224b19b9f": {
          "model_module": "@jupyter-widgets/base",
          "model_name": "LayoutModel",
          "state": {
            "_view_name": "LayoutView",
            "grid_template_rows": null,
            "right": null,
            "justify_content": null,
            "_view_module": "@jupyter-widgets/base",
            "overflow": null,
            "_model_module_version": "1.2.0",
            "_view_count": null,
            "flex_flow": null,
            "width": null,
            "min_width": null,
            "border": null,
            "align_items": null,
            "bottom": null,
            "_model_module": "@jupyter-widgets/base",
            "top": null,
            "grid_column": null,
            "overflow_y": null,
            "overflow_x": null,
            "grid_auto_flow": null,
            "grid_area": null,
            "grid_template_columns": null,
            "flex": null,
            "_model_name": "LayoutModel",
            "justify_items": null,
            "grid_row": null,
            "max_height": null,
            "align_content": null,
            "visibility": null,
            "align_self": null,
            "height": null,
            "min_height": null,
            "padding": null,
            "grid_auto_rows": null,
            "grid_gap": null,
            "max_width": null,
            "order": null,
            "_view_module_version": "1.2.0",
            "grid_template_areas": null,
            "object_position": null,
            "object_fit": null,
            "grid_auto_columns": null,
            "margin": null,
            "display": null,
            "left": null
          }
        },
        "e5fd960c709248f79178d0c2ef187e7d": {
          "model_module": "@jupyter-widgets/controls",
          "model_name": "DescriptionStyleModel",
          "state": {
            "_view_name": "StyleView",
            "_model_name": "DescriptionStyleModel",
            "description_width": "",
            "_view_module": "@jupyter-widgets/base",
            "_model_module_version": "1.5.0",
            "_view_count": null,
            "_view_module_version": "1.2.0",
            "_model_module": "@jupyter-widgets/controls"
          }
        },
        "4999d81e757e46ce876970ba42f8714b": {
          "model_module": "@jupyter-widgets/base",
          "model_name": "LayoutModel",
          "state": {
            "_view_name": "LayoutView",
            "grid_template_rows": null,
            "right": null,
            "justify_content": null,
            "_view_module": "@jupyter-widgets/base",
            "overflow": null,
            "_model_module_version": "1.2.0",
            "_view_count": null,
            "flex_flow": null,
            "width": null,
            "min_width": null,
            "border": null,
            "align_items": null,
            "bottom": null,
            "_model_module": "@jupyter-widgets/base",
            "top": null,
            "grid_column": null,
            "overflow_y": null,
            "overflow_x": null,
            "grid_auto_flow": null,
            "grid_area": null,
            "grid_template_columns": null,
            "flex": null,
            "_model_name": "LayoutModel",
            "justify_items": null,
            "grid_row": null,
            "max_height": null,
            "align_content": null,
            "visibility": null,
            "align_self": null,
            "height": null,
            "min_height": null,
            "padding": null,
            "grid_auto_rows": null,
            "grid_gap": null,
            "max_width": null,
            "order": null,
            "_view_module_version": "1.2.0",
            "grid_template_areas": null,
            "object_position": null,
            "object_fit": null,
            "grid_auto_columns": null,
            "margin": null,
            "display": null,
            "left": null
          }
        },
        "a4f72803c64c4bd59a2fd3f7ca2ed573": {
          "model_module": "@jupyter-widgets/controls",
          "model_name": "HBoxModel",
          "state": {
            "_view_name": "HBoxView",
            "_dom_classes": [],
            "_model_name": "HBoxModel",
            "_view_module": "@jupyter-widgets/controls",
            "_model_module_version": "1.5.0",
            "_view_count": null,
            "_view_module_version": "1.5.0",
            "box_style": "",
            "layout": "IPY_MODEL_5319c369c3c5403788c546bfb320b336",
            "_model_module": "@jupyter-widgets/controls",
            "children": [
              "IPY_MODEL_c8fe00d6ea9d40bf9cee30531b05b7cf",
              "IPY_MODEL_f2f6050adf8f437d9a7c021234f94030"
            ]
          }
        },
        "5319c369c3c5403788c546bfb320b336": {
          "model_module": "@jupyter-widgets/base",
          "model_name": "LayoutModel",
          "state": {
            "_view_name": "LayoutView",
            "grid_template_rows": null,
            "right": null,
            "justify_content": null,
            "_view_module": "@jupyter-widgets/base",
            "overflow": null,
            "_model_module_version": "1.2.0",
            "_view_count": null,
            "flex_flow": null,
            "width": null,
            "min_width": null,
            "border": null,
            "align_items": null,
            "bottom": null,
            "_model_module": "@jupyter-widgets/base",
            "top": null,
            "grid_column": null,
            "overflow_y": null,
            "overflow_x": null,
            "grid_auto_flow": null,
            "grid_area": null,
            "grid_template_columns": null,
            "flex": null,
            "_model_name": "LayoutModel",
            "justify_items": null,
            "grid_row": null,
            "max_height": null,
            "align_content": null,
            "visibility": null,
            "align_self": null,
            "height": null,
            "min_height": null,
            "padding": null,
            "grid_auto_rows": null,
            "grid_gap": null,
            "max_width": null,
            "order": null,
            "_view_module_version": "1.2.0",
            "grid_template_areas": null,
            "object_position": null,
            "object_fit": null,
            "grid_auto_columns": null,
            "margin": null,
            "display": null,
            "left": null
          }
        },
        "c8fe00d6ea9d40bf9cee30531b05b7cf": {
          "model_module": "@jupyter-widgets/controls",
          "model_name": "FloatProgressModel",
          "state": {
            "_view_name": "ProgressView",
            "style": "IPY_MODEL_fbe20260f6744dc9bc52a2b5f2062e80",
            "_dom_classes": [],
            "description": "",
            "_model_name": "FloatProgressModel",
            "bar_style": "info",
            "max": 1,
            "_view_module": "@jupyter-widgets/controls",
            "_model_module_version": "1.5.0",
            "value": 1,
            "_view_count": null,
            "_view_module_version": "1.5.0",
            "orientation": "horizontal",
            "min": 0,
            "description_tooltip": null,
            "_model_module": "@jupyter-widgets/controls",
            "layout": "IPY_MODEL_3c0e33f570ce4edcb8d14d4b3a539d5d"
          }
        },
        "f2f6050adf8f437d9a7c021234f94030": {
          "model_module": "@jupyter-widgets/controls",
          "model_name": "HTMLModel",
          "state": {
            "_view_name": "HTMLView",
            "style": "IPY_MODEL_fd6da78ed34945a982aa76014bb79d01",
            "_dom_classes": [],
            "description": "",
            "_model_name": "HTMLModel",
            "placeholder": "​",
            "_view_module": "@jupyter-widgets/controls",
            "_model_module_version": "1.5.0",
            "value": " 25000/0 [00:17&lt;00:00, 2355.29 examples/s]",
            "_view_count": null,
            "_view_module_version": "1.5.0",
            "description_tooltip": null,
            "_model_module": "@jupyter-widgets/controls",
            "layout": "IPY_MODEL_dd2ad873f2e14ca8b441614b5900e059"
          }
        },
        "fbe20260f6744dc9bc52a2b5f2062e80": {
          "model_module": "@jupyter-widgets/controls",
          "model_name": "ProgressStyleModel",
          "state": {
            "_view_name": "StyleView",
            "_model_name": "ProgressStyleModel",
            "description_width": "initial",
            "_view_module": "@jupyter-widgets/base",
            "_model_module_version": "1.5.0",
            "_view_count": null,
            "_view_module_version": "1.2.0",
            "bar_color": null,
            "_model_module": "@jupyter-widgets/controls"
          }
        },
        "3c0e33f570ce4edcb8d14d4b3a539d5d": {
          "model_module": "@jupyter-widgets/base",
          "model_name": "LayoutModel",
          "state": {
            "_view_name": "LayoutView",
            "grid_template_rows": null,
            "right": null,
            "justify_content": null,
            "_view_module": "@jupyter-widgets/base",
            "overflow": null,
            "_model_module_version": "1.2.0",
            "_view_count": null,
            "flex_flow": null,
            "width": null,
            "min_width": null,
            "border": null,
            "align_items": null,
            "bottom": null,
            "_model_module": "@jupyter-widgets/base",
            "top": null,
            "grid_column": null,
            "overflow_y": null,
            "overflow_x": null,
            "grid_auto_flow": null,
            "grid_area": null,
            "grid_template_columns": null,
            "flex": null,
            "_model_name": "LayoutModel",
            "justify_items": null,
            "grid_row": null,
            "max_height": null,
            "align_content": null,
            "visibility": null,
            "align_self": null,
            "height": null,
            "min_height": null,
            "padding": null,
            "grid_auto_rows": null,
            "grid_gap": null,
            "max_width": null,
            "order": null,
            "_view_module_version": "1.2.0",
            "grid_template_areas": null,
            "object_position": null,
            "object_fit": null,
            "grid_auto_columns": null,
            "margin": null,
            "display": null,
            "left": null
          }
        },
        "fd6da78ed34945a982aa76014bb79d01": {
          "model_module": "@jupyter-widgets/controls",
          "model_name": "DescriptionStyleModel",
          "state": {
            "_view_name": "StyleView",
            "_model_name": "DescriptionStyleModel",
            "description_width": "",
            "_view_module": "@jupyter-widgets/base",
            "_model_module_version": "1.5.0",
            "_view_count": null,
            "_view_module_version": "1.2.0",
            "_model_module": "@jupyter-widgets/controls"
          }
        },
        "dd2ad873f2e14ca8b441614b5900e059": {
          "model_module": "@jupyter-widgets/base",
          "model_name": "LayoutModel",
          "state": {
            "_view_name": "LayoutView",
            "grid_template_rows": null,
            "right": null,
            "justify_content": null,
            "_view_module": "@jupyter-widgets/base",
            "overflow": null,
            "_model_module_version": "1.2.0",
            "_view_count": null,
            "flex_flow": null,
            "width": null,
            "min_width": null,
            "border": null,
            "align_items": null,
            "bottom": null,
            "_model_module": "@jupyter-widgets/base",
            "top": null,
            "grid_column": null,
            "overflow_y": null,
            "overflow_x": null,
            "grid_auto_flow": null,
            "grid_area": null,
            "grid_template_columns": null,
            "flex": null,
            "_model_name": "LayoutModel",
            "justify_items": null,
            "grid_row": null,
            "max_height": null,
            "align_content": null,
            "visibility": null,
            "align_self": null,
            "height": null,
            "min_height": null,
            "padding": null,
            "grid_auto_rows": null,
            "grid_gap": null,
            "max_width": null,
            "order": null,
            "_view_module_version": "1.2.0",
            "grid_template_areas": null,
            "object_position": null,
            "object_fit": null,
            "grid_auto_columns": null,
            "margin": null,
            "display": null,
            "left": null
          }
        },
        "f35cf125ac4b4f118d8e594f13c8308c": {
          "model_module": "@jupyter-widgets/controls",
          "model_name": "HBoxModel",
          "state": {
            "_view_name": "HBoxView",
            "_dom_classes": [],
            "_model_name": "HBoxModel",
            "_view_module": "@jupyter-widgets/controls",
            "_model_module_version": "1.5.0",
            "_view_count": null,
            "_view_module_version": "1.5.0",
            "box_style": "",
            "layout": "IPY_MODEL_4819fb9a37534d7cacea6522b39da875",
            "_model_module": "@jupyter-widgets/controls",
            "children": [
              "IPY_MODEL_dbace5f0a71445ffb168324bd1a9c891",
              "IPY_MODEL_bcd6778db33547febba0ebb457b396aa"
            ]
          }
        },
        "4819fb9a37534d7cacea6522b39da875": {
          "model_module": "@jupyter-widgets/base",
          "model_name": "LayoutModel",
          "state": {
            "_view_name": "LayoutView",
            "grid_template_rows": null,
            "right": null,
            "justify_content": null,
            "_view_module": "@jupyter-widgets/base",
            "overflow": null,
            "_model_module_version": "1.2.0",
            "_view_count": null,
            "flex_flow": null,
            "width": null,
            "min_width": null,
            "border": null,
            "align_items": null,
            "bottom": null,
            "_model_module": "@jupyter-widgets/base",
            "top": null,
            "grid_column": null,
            "overflow_y": null,
            "overflow_x": null,
            "grid_auto_flow": null,
            "grid_area": null,
            "grid_template_columns": null,
            "flex": null,
            "_model_name": "LayoutModel",
            "justify_items": null,
            "grid_row": null,
            "max_height": null,
            "align_content": null,
            "visibility": null,
            "align_self": null,
            "height": null,
            "min_height": null,
            "padding": null,
            "grid_auto_rows": null,
            "grid_gap": null,
            "max_width": null,
            "order": null,
            "_view_module_version": "1.2.0",
            "grid_template_areas": null,
            "object_position": null,
            "object_fit": null,
            "grid_auto_columns": null,
            "margin": null,
            "display": null,
            "left": null
          }
        },
        "dbace5f0a71445ffb168324bd1a9c891": {
          "model_module": "@jupyter-widgets/controls",
          "model_name": "FloatProgressModel",
          "state": {
            "_view_name": "ProgressView",
            "style": "IPY_MODEL_1129dc422cd54ebaae788cfe5cc41508",
            "_dom_classes": [],
            "description": " 18%",
            "_model_name": "FloatProgressModel",
            "bar_style": "danger",
            "max": 25000,
            "_view_module": "@jupyter-widgets/controls",
            "_model_module_version": "1.5.0",
            "value": 4460,
            "_view_count": null,
            "_view_module_version": "1.5.0",
            "orientation": "horizontal",
            "min": 0,
            "description_tooltip": null,
            "_model_module": "@jupyter-widgets/controls",
            "layout": "IPY_MODEL_5d885b878f3548da923ad146952c52e4"
          }
        },
        "bcd6778db33547febba0ebb457b396aa": {
          "model_module": "@jupyter-widgets/controls",
          "model_name": "HTMLModel",
          "state": {
            "_view_name": "HTMLView",
            "style": "IPY_MODEL_9f5e57c495524a2aacb15a5a03badaea",
            "_dom_classes": [],
            "description": "",
            "_model_name": "HTMLModel",
            "placeholder": "​",
            "_view_module": "@jupyter-widgets/controls",
            "_model_module_version": "1.5.0",
            "value": " 4460/25000 [00:00&lt;00:00, 44599.30 examples/s]",
            "_view_count": null,
            "_view_module_version": "1.5.0",
            "description_tooltip": null,
            "_model_module": "@jupyter-widgets/controls",
            "layout": "IPY_MODEL_23a866d99d3743ceac07c16d19b2c520"
          }
        },
        "1129dc422cd54ebaae788cfe5cc41508": {
          "model_module": "@jupyter-widgets/controls",
          "model_name": "ProgressStyleModel",
          "state": {
            "_view_name": "StyleView",
            "_model_name": "ProgressStyleModel",
            "description_width": "initial",
            "_view_module": "@jupyter-widgets/base",
            "_model_module_version": "1.5.0",
            "_view_count": null,
            "_view_module_version": "1.2.0",
            "bar_color": null,
            "_model_module": "@jupyter-widgets/controls"
          }
        },
        "5d885b878f3548da923ad146952c52e4": {
          "model_module": "@jupyter-widgets/base",
          "model_name": "LayoutModel",
          "state": {
            "_view_name": "LayoutView",
            "grid_template_rows": null,
            "right": null,
            "justify_content": null,
            "_view_module": "@jupyter-widgets/base",
            "overflow": null,
            "_model_module_version": "1.2.0",
            "_view_count": null,
            "flex_flow": null,
            "width": null,
            "min_width": null,
            "border": null,
            "align_items": null,
            "bottom": null,
            "_model_module": "@jupyter-widgets/base",
            "top": null,
            "grid_column": null,
            "overflow_y": null,
            "overflow_x": null,
            "grid_auto_flow": null,
            "grid_area": null,
            "grid_template_columns": null,
            "flex": null,
            "_model_name": "LayoutModel",
            "justify_items": null,
            "grid_row": null,
            "max_height": null,
            "align_content": null,
            "visibility": null,
            "align_self": null,
            "height": null,
            "min_height": null,
            "padding": null,
            "grid_auto_rows": null,
            "grid_gap": null,
            "max_width": null,
            "order": null,
            "_view_module_version": "1.2.0",
            "grid_template_areas": null,
            "object_position": null,
            "object_fit": null,
            "grid_auto_columns": null,
            "margin": null,
            "display": null,
            "left": null
          }
        },
        "9f5e57c495524a2aacb15a5a03badaea": {
          "model_module": "@jupyter-widgets/controls",
          "model_name": "DescriptionStyleModel",
          "state": {
            "_view_name": "StyleView",
            "_model_name": "DescriptionStyleModel",
            "description_width": "",
            "_view_module": "@jupyter-widgets/base",
            "_model_module_version": "1.5.0",
            "_view_count": null,
            "_view_module_version": "1.2.0",
            "_model_module": "@jupyter-widgets/controls"
          }
        },
        "23a866d99d3743ceac07c16d19b2c520": {
          "model_module": "@jupyter-widgets/base",
          "model_name": "LayoutModel",
          "state": {
            "_view_name": "LayoutView",
            "grid_template_rows": null,
            "right": null,
            "justify_content": null,
            "_view_module": "@jupyter-widgets/base",
            "overflow": null,
            "_model_module_version": "1.2.0",
            "_view_count": null,
            "flex_flow": null,
            "width": null,
            "min_width": null,
            "border": null,
            "align_items": null,
            "bottom": null,
            "_model_module": "@jupyter-widgets/base",
            "top": null,
            "grid_column": null,
            "overflow_y": null,
            "overflow_x": null,
            "grid_auto_flow": null,
            "grid_area": null,
            "grid_template_columns": null,
            "flex": null,
            "_model_name": "LayoutModel",
            "justify_items": null,
            "grid_row": null,
            "max_height": null,
            "align_content": null,
            "visibility": null,
            "align_self": null,
            "height": null,
            "min_height": null,
            "padding": null,
            "grid_auto_rows": null,
            "grid_gap": null,
            "max_width": null,
            "order": null,
            "_view_module_version": "1.2.0",
            "grid_template_areas": null,
            "object_position": null,
            "object_fit": null,
            "grid_auto_columns": null,
            "margin": null,
            "display": null,
            "left": null
          }
        },
        "2304304a008f41a79cc5b5fc446059bf": {
          "model_module": "@jupyter-widgets/controls",
          "model_name": "HBoxModel",
          "state": {
            "_view_name": "HBoxView",
            "_dom_classes": [],
            "_model_name": "HBoxModel",
            "_view_module": "@jupyter-widgets/controls",
            "_model_module_version": "1.5.0",
            "_view_count": null,
            "_view_module_version": "1.5.0",
            "box_style": "",
            "layout": "IPY_MODEL_78e246b06e9243a9b6e62fa3a0e2fc05",
            "_model_module": "@jupyter-widgets/controls",
            "children": [
              "IPY_MODEL_d3ae2045436e4cb28bbf2ba456f17589",
              "IPY_MODEL_e856379b5c0f473a9837694105591419"
            ]
          }
        },
        "78e246b06e9243a9b6e62fa3a0e2fc05": {
          "model_module": "@jupyter-widgets/base",
          "model_name": "LayoutModel",
          "state": {
            "_view_name": "LayoutView",
            "grid_template_rows": null,
            "right": null,
            "justify_content": null,
            "_view_module": "@jupyter-widgets/base",
            "overflow": null,
            "_model_module_version": "1.2.0",
            "_view_count": null,
            "flex_flow": null,
            "width": null,
            "min_width": null,
            "border": null,
            "align_items": null,
            "bottom": null,
            "_model_module": "@jupyter-widgets/base",
            "top": null,
            "grid_column": null,
            "overflow_y": null,
            "overflow_x": null,
            "grid_auto_flow": null,
            "grid_area": null,
            "grid_template_columns": null,
            "flex": null,
            "_model_name": "LayoutModel",
            "justify_items": null,
            "grid_row": null,
            "max_height": null,
            "align_content": null,
            "visibility": null,
            "align_self": null,
            "height": null,
            "min_height": null,
            "padding": null,
            "grid_auto_rows": null,
            "grid_gap": null,
            "max_width": null,
            "order": null,
            "_view_module_version": "1.2.0",
            "grid_template_areas": null,
            "object_position": null,
            "object_fit": null,
            "grid_auto_columns": null,
            "margin": null,
            "display": null,
            "left": null
          }
        },
        "d3ae2045436e4cb28bbf2ba456f17589": {
          "model_module": "@jupyter-widgets/controls",
          "model_name": "FloatProgressModel",
          "state": {
            "_view_name": "ProgressView",
            "style": "IPY_MODEL_ee5307319e43458198b58f21a17c7089",
            "_dom_classes": [],
            "description": "",
            "_model_name": "FloatProgressModel",
            "bar_style": "info",
            "max": 1,
            "_view_module": "@jupyter-widgets/controls",
            "_model_module_version": "1.5.0",
            "value": 1,
            "_view_count": null,
            "_view_module_version": "1.5.0",
            "orientation": "horizontal",
            "min": 0,
            "description_tooltip": null,
            "_model_module": "@jupyter-widgets/controls",
            "layout": "IPY_MODEL_cc2934d819244868a63613e2a7195dff"
          }
        },
        "e856379b5c0f473a9837694105591419": {
          "model_module": "@jupyter-widgets/controls",
          "model_name": "HTMLModel",
          "state": {
            "_view_name": "HTMLView",
            "style": "IPY_MODEL_f93b7ea1ee914c28a504fc349f722b84",
            "_dom_classes": [],
            "description": "",
            "_model_name": "HTMLModel",
            "placeholder": "​",
            "_view_module": "@jupyter-widgets/controls",
            "_model_module_version": "1.5.0",
            "value": " 25000/0 [00:17&lt;00:00, 2493.60 examples/s]",
            "_view_count": null,
            "_view_module_version": "1.5.0",
            "description_tooltip": null,
            "_model_module": "@jupyter-widgets/controls",
            "layout": "IPY_MODEL_6f923ba90460458a9a9c72e39911ab2b"
          }
        },
        "ee5307319e43458198b58f21a17c7089": {
          "model_module": "@jupyter-widgets/controls",
          "model_name": "ProgressStyleModel",
          "state": {
            "_view_name": "StyleView",
            "_model_name": "ProgressStyleModel",
            "description_width": "initial",
            "_view_module": "@jupyter-widgets/base",
            "_model_module_version": "1.5.0",
            "_view_count": null,
            "_view_module_version": "1.2.0",
            "bar_color": null,
            "_model_module": "@jupyter-widgets/controls"
          }
        },
        "cc2934d819244868a63613e2a7195dff": {
          "model_module": "@jupyter-widgets/base",
          "model_name": "LayoutModel",
          "state": {
            "_view_name": "LayoutView",
            "grid_template_rows": null,
            "right": null,
            "justify_content": null,
            "_view_module": "@jupyter-widgets/base",
            "overflow": null,
            "_model_module_version": "1.2.0",
            "_view_count": null,
            "flex_flow": null,
            "width": null,
            "min_width": null,
            "border": null,
            "align_items": null,
            "bottom": null,
            "_model_module": "@jupyter-widgets/base",
            "top": null,
            "grid_column": null,
            "overflow_y": null,
            "overflow_x": null,
            "grid_auto_flow": null,
            "grid_area": null,
            "grid_template_columns": null,
            "flex": null,
            "_model_name": "LayoutModel",
            "justify_items": null,
            "grid_row": null,
            "max_height": null,
            "align_content": null,
            "visibility": null,
            "align_self": null,
            "height": null,
            "min_height": null,
            "padding": null,
            "grid_auto_rows": null,
            "grid_gap": null,
            "max_width": null,
            "order": null,
            "_view_module_version": "1.2.0",
            "grid_template_areas": null,
            "object_position": null,
            "object_fit": null,
            "grid_auto_columns": null,
            "margin": null,
            "display": null,
            "left": null
          }
        },
        "f93b7ea1ee914c28a504fc349f722b84": {
          "model_module": "@jupyter-widgets/controls",
          "model_name": "DescriptionStyleModel",
          "state": {
            "_view_name": "StyleView",
            "_model_name": "DescriptionStyleModel",
            "description_width": "",
            "_view_module": "@jupyter-widgets/base",
            "_model_module_version": "1.5.0",
            "_view_count": null,
            "_view_module_version": "1.2.0",
            "_model_module": "@jupyter-widgets/controls"
          }
        },
        "6f923ba90460458a9a9c72e39911ab2b": {
          "model_module": "@jupyter-widgets/base",
          "model_name": "LayoutModel",
          "state": {
            "_view_name": "LayoutView",
            "grid_template_rows": null,
            "right": null,
            "justify_content": null,
            "_view_module": "@jupyter-widgets/base",
            "overflow": null,
            "_model_module_version": "1.2.0",
            "_view_count": null,
            "flex_flow": null,
            "width": null,
            "min_width": null,
            "border": null,
            "align_items": null,
            "bottom": null,
            "_model_module": "@jupyter-widgets/base",
            "top": null,
            "grid_column": null,
            "overflow_y": null,
            "overflow_x": null,
            "grid_auto_flow": null,
            "grid_area": null,
            "grid_template_columns": null,
            "flex": null,
            "_model_name": "LayoutModel",
            "justify_items": null,
            "grid_row": null,
            "max_height": null,
            "align_content": null,
            "visibility": null,
            "align_self": null,
            "height": null,
            "min_height": null,
            "padding": null,
            "grid_auto_rows": null,
            "grid_gap": null,
            "max_width": null,
            "order": null,
            "_view_module_version": "1.2.0",
            "grid_template_areas": null,
            "object_position": null,
            "object_fit": null,
            "grid_auto_columns": null,
            "margin": null,
            "display": null,
            "left": null
          }
        },
        "2eaa00fa93f944b09caf0172a6b97b92": {
          "model_module": "@jupyter-widgets/controls",
          "model_name": "HBoxModel",
          "state": {
            "_view_name": "HBoxView",
            "_dom_classes": [],
            "_model_name": "HBoxModel",
            "_view_module": "@jupyter-widgets/controls",
            "_model_module_version": "1.5.0",
            "_view_count": null,
            "_view_module_version": "1.5.0",
            "box_style": "",
            "layout": "IPY_MODEL_9eaa28b7e5fa4be28fbae1f6045364bf",
            "_model_module": "@jupyter-widgets/controls",
            "children": [
              "IPY_MODEL_04f076b6b3ad4fb3b1a56f0214a71a31",
              "IPY_MODEL_67a59802ff51440c8cb3f105620743eb"
            ]
          }
        },
        "9eaa28b7e5fa4be28fbae1f6045364bf": {
          "model_module": "@jupyter-widgets/base",
          "model_name": "LayoutModel",
          "state": {
            "_view_name": "LayoutView",
            "grid_template_rows": null,
            "right": null,
            "justify_content": null,
            "_view_module": "@jupyter-widgets/base",
            "overflow": null,
            "_model_module_version": "1.2.0",
            "_view_count": null,
            "flex_flow": null,
            "width": null,
            "min_width": null,
            "border": null,
            "align_items": null,
            "bottom": null,
            "_model_module": "@jupyter-widgets/base",
            "top": null,
            "grid_column": null,
            "overflow_y": null,
            "overflow_x": null,
            "grid_auto_flow": null,
            "grid_area": null,
            "grid_template_columns": null,
            "flex": null,
            "_model_name": "LayoutModel",
            "justify_items": null,
            "grid_row": null,
            "max_height": null,
            "align_content": null,
            "visibility": null,
            "align_self": null,
            "height": null,
            "min_height": null,
            "padding": null,
            "grid_auto_rows": null,
            "grid_gap": null,
            "max_width": null,
            "order": null,
            "_view_module_version": "1.2.0",
            "grid_template_areas": null,
            "object_position": null,
            "object_fit": null,
            "grid_auto_columns": null,
            "margin": null,
            "display": null,
            "left": null
          }
        },
        "04f076b6b3ad4fb3b1a56f0214a71a31": {
          "model_module": "@jupyter-widgets/controls",
          "model_name": "FloatProgressModel",
          "state": {
            "_view_name": "ProgressView",
            "style": "IPY_MODEL_40275622fa2945c6ab96dd7e718ecdd0",
            "_dom_classes": [],
            "description": " 75%",
            "_model_name": "FloatProgressModel",
            "bar_style": "danger",
            "max": 25000,
            "_view_module": "@jupyter-widgets/controls",
            "_model_module_version": "1.5.0",
            "value": 18632,
            "_view_count": null,
            "_view_module_version": "1.5.0",
            "orientation": "horizontal",
            "min": 0,
            "description_tooltip": null,
            "_model_module": "@jupyter-widgets/controls",
            "layout": "IPY_MODEL_e00fa4e2067d406891e44b71d2a4dfb1"
          }
        },
        "67a59802ff51440c8cb3f105620743eb": {
          "model_module": "@jupyter-widgets/controls",
          "model_name": "HTMLModel",
          "state": {
            "_view_name": "HTMLView",
            "style": "IPY_MODEL_392286f285624dcc9c3577fc7f4cdcc8",
            "_dom_classes": [],
            "description": "",
            "_model_name": "HTMLModel",
            "placeholder": "​",
            "_view_module": "@jupyter-widgets/controls",
            "_model_module_version": "1.5.0",
            "value": " 18632/25000 [00:00&lt;00:00, 38647.83 examples/s]",
            "_view_count": null,
            "_view_module_version": "1.5.0",
            "description_tooltip": null,
            "_model_module": "@jupyter-widgets/controls",
            "layout": "IPY_MODEL_0fd48fcf7a2d4fd0984c11c96ccf1735"
          }
        },
        "40275622fa2945c6ab96dd7e718ecdd0": {
          "model_module": "@jupyter-widgets/controls",
          "model_name": "ProgressStyleModel",
          "state": {
            "_view_name": "StyleView",
            "_model_name": "ProgressStyleModel",
            "description_width": "initial",
            "_view_module": "@jupyter-widgets/base",
            "_model_module_version": "1.5.0",
            "_view_count": null,
            "_view_module_version": "1.2.0",
            "bar_color": null,
            "_model_module": "@jupyter-widgets/controls"
          }
        },
        "e00fa4e2067d406891e44b71d2a4dfb1": {
          "model_module": "@jupyter-widgets/base",
          "model_name": "LayoutModel",
          "state": {
            "_view_name": "LayoutView",
            "grid_template_rows": null,
            "right": null,
            "justify_content": null,
            "_view_module": "@jupyter-widgets/base",
            "overflow": null,
            "_model_module_version": "1.2.0",
            "_view_count": null,
            "flex_flow": null,
            "width": null,
            "min_width": null,
            "border": null,
            "align_items": null,
            "bottom": null,
            "_model_module": "@jupyter-widgets/base",
            "top": null,
            "grid_column": null,
            "overflow_y": null,
            "overflow_x": null,
            "grid_auto_flow": null,
            "grid_area": null,
            "grid_template_columns": null,
            "flex": null,
            "_model_name": "LayoutModel",
            "justify_items": null,
            "grid_row": null,
            "max_height": null,
            "align_content": null,
            "visibility": null,
            "align_self": null,
            "height": null,
            "min_height": null,
            "padding": null,
            "grid_auto_rows": null,
            "grid_gap": null,
            "max_width": null,
            "order": null,
            "_view_module_version": "1.2.0",
            "grid_template_areas": null,
            "object_position": null,
            "object_fit": null,
            "grid_auto_columns": null,
            "margin": null,
            "display": null,
            "left": null
          }
        },
        "392286f285624dcc9c3577fc7f4cdcc8": {
          "model_module": "@jupyter-widgets/controls",
          "model_name": "DescriptionStyleModel",
          "state": {
            "_view_name": "StyleView",
            "_model_name": "DescriptionStyleModel",
            "description_width": "",
            "_view_module": "@jupyter-widgets/base",
            "_model_module_version": "1.5.0",
            "_view_count": null,
            "_view_module_version": "1.2.0",
            "_model_module": "@jupyter-widgets/controls"
          }
        },
        "0fd48fcf7a2d4fd0984c11c96ccf1735": {
          "model_module": "@jupyter-widgets/base",
          "model_name": "LayoutModel",
          "state": {
            "_view_name": "LayoutView",
            "grid_template_rows": null,
            "right": null,
            "justify_content": null,
            "_view_module": "@jupyter-widgets/base",
            "overflow": null,
            "_model_module_version": "1.2.0",
            "_view_count": null,
            "flex_flow": null,
            "width": null,
            "min_width": null,
            "border": null,
            "align_items": null,
            "bottom": null,
            "_model_module": "@jupyter-widgets/base",
            "top": null,
            "grid_column": null,
            "overflow_y": null,
            "overflow_x": null,
            "grid_auto_flow": null,
            "grid_area": null,
            "grid_template_columns": null,
            "flex": null,
            "_model_name": "LayoutModel",
            "justify_items": null,
            "grid_row": null,
            "max_height": null,
            "align_content": null,
            "visibility": null,
            "align_self": null,
            "height": null,
            "min_height": null,
            "padding": null,
            "grid_auto_rows": null,
            "grid_gap": null,
            "max_width": null,
            "order": null,
            "_view_module_version": "1.2.0",
            "grid_template_areas": null,
            "object_position": null,
            "object_fit": null,
            "grid_auto_columns": null,
            "margin": null,
            "display": null,
            "left": null
          }
        },
        "0d50651ffba34388a39668edee19c093": {
          "model_module": "@jupyter-widgets/controls",
          "model_name": "HBoxModel",
          "state": {
            "_view_name": "HBoxView",
            "_dom_classes": [],
            "_model_name": "HBoxModel",
            "_view_module": "@jupyter-widgets/controls",
            "_model_module_version": "1.5.0",
            "_view_count": null,
            "_view_module_version": "1.5.0",
            "box_style": "",
            "layout": "IPY_MODEL_f9fb4696f1d0460dac9a4a688b1a0e0b",
            "_model_module": "@jupyter-widgets/controls",
            "children": [
              "IPY_MODEL_2ab1b0781c124252823c0149946a9934",
              "IPY_MODEL_66152a84e7ac4774a522a1339c2901c8"
            ]
          }
        },
        "f9fb4696f1d0460dac9a4a688b1a0e0b": {
          "model_module": "@jupyter-widgets/base",
          "model_name": "LayoutModel",
          "state": {
            "_view_name": "LayoutView",
            "grid_template_rows": null,
            "right": null,
            "justify_content": null,
            "_view_module": "@jupyter-widgets/base",
            "overflow": null,
            "_model_module_version": "1.2.0",
            "_view_count": null,
            "flex_flow": null,
            "width": null,
            "min_width": null,
            "border": null,
            "align_items": null,
            "bottom": null,
            "_model_module": "@jupyter-widgets/base",
            "top": null,
            "grid_column": null,
            "overflow_y": null,
            "overflow_x": null,
            "grid_auto_flow": null,
            "grid_area": null,
            "grid_template_columns": null,
            "flex": null,
            "_model_name": "LayoutModel",
            "justify_items": null,
            "grid_row": null,
            "max_height": null,
            "align_content": null,
            "visibility": null,
            "align_self": null,
            "height": null,
            "min_height": null,
            "padding": null,
            "grid_auto_rows": null,
            "grid_gap": null,
            "max_width": null,
            "order": null,
            "_view_module_version": "1.2.0",
            "grid_template_areas": null,
            "object_position": null,
            "object_fit": null,
            "grid_auto_columns": null,
            "margin": null,
            "display": null,
            "left": null
          }
        },
        "2ab1b0781c124252823c0149946a9934": {
          "model_module": "@jupyter-widgets/controls",
          "model_name": "FloatProgressModel",
          "state": {
            "_view_name": "ProgressView",
            "style": "IPY_MODEL_a0abe1fac97b4cfba5e7c4f634d98c26",
            "_dom_classes": [],
            "description": "",
            "_model_name": "FloatProgressModel",
            "bar_style": "info",
            "max": 1,
            "_view_module": "@jupyter-widgets/controls",
            "_model_module_version": "1.5.0",
            "value": 1,
            "_view_count": null,
            "_view_module_version": "1.5.0",
            "orientation": "horizontal",
            "min": 0,
            "description_tooltip": null,
            "_model_module": "@jupyter-widgets/controls",
            "layout": "IPY_MODEL_82783394f2ec4895b0004801b5733aa2"
          }
        },
        "66152a84e7ac4774a522a1339c2901c8": {
          "model_module": "@jupyter-widgets/controls",
          "model_name": "HTMLModel",
          "state": {
            "_view_name": "HTMLView",
            "style": "IPY_MODEL_de7937a7142b4b329bc7cd3a9de4f3c9",
            "_dom_classes": [],
            "description": "",
            "_model_name": "HTMLModel",
            "placeholder": "​",
            "_view_module": "@jupyter-widgets/controls",
            "_model_module_version": "1.5.0",
            "value": " 50000/0 [00:25&lt;00:00, 2491.16 examples/s]",
            "_view_count": null,
            "_view_module_version": "1.5.0",
            "description_tooltip": null,
            "_model_module": "@jupyter-widgets/controls",
            "layout": "IPY_MODEL_dd8e6cd8d05f40edaab0d2ee79b3e780"
          }
        },
        "a0abe1fac97b4cfba5e7c4f634d98c26": {
          "model_module": "@jupyter-widgets/controls",
          "model_name": "ProgressStyleModel",
          "state": {
            "_view_name": "StyleView",
            "_model_name": "ProgressStyleModel",
            "description_width": "initial",
            "_view_module": "@jupyter-widgets/base",
            "_model_module_version": "1.5.0",
            "_view_count": null,
            "_view_module_version": "1.2.0",
            "bar_color": null,
            "_model_module": "@jupyter-widgets/controls"
          }
        },
        "82783394f2ec4895b0004801b5733aa2": {
          "model_module": "@jupyter-widgets/base",
          "model_name": "LayoutModel",
          "state": {
            "_view_name": "LayoutView",
            "grid_template_rows": null,
            "right": null,
            "justify_content": null,
            "_view_module": "@jupyter-widgets/base",
            "overflow": null,
            "_model_module_version": "1.2.0",
            "_view_count": null,
            "flex_flow": null,
            "width": null,
            "min_width": null,
            "border": null,
            "align_items": null,
            "bottom": null,
            "_model_module": "@jupyter-widgets/base",
            "top": null,
            "grid_column": null,
            "overflow_y": null,
            "overflow_x": null,
            "grid_auto_flow": null,
            "grid_area": null,
            "grid_template_columns": null,
            "flex": null,
            "_model_name": "LayoutModel",
            "justify_items": null,
            "grid_row": null,
            "max_height": null,
            "align_content": null,
            "visibility": null,
            "align_self": null,
            "height": null,
            "min_height": null,
            "padding": null,
            "grid_auto_rows": null,
            "grid_gap": null,
            "max_width": null,
            "order": null,
            "_view_module_version": "1.2.0",
            "grid_template_areas": null,
            "object_position": null,
            "object_fit": null,
            "grid_auto_columns": null,
            "margin": null,
            "display": null,
            "left": null
          }
        },
        "de7937a7142b4b329bc7cd3a9de4f3c9": {
          "model_module": "@jupyter-widgets/controls",
          "model_name": "DescriptionStyleModel",
          "state": {
            "_view_name": "StyleView",
            "_model_name": "DescriptionStyleModel",
            "description_width": "",
            "_view_module": "@jupyter-widgets/base",
            "_model_module_version": "1.5.0",
            "_view_count": null,
            "_view_module_version": "1.2.0",
            "_model_module": "@jupyter-widgets/controls"
          }
        },
        "dd8e6cd8d05f40edaab0d2ee79b3e780": {
          "model_module": "@jupyter-widgets/base",
          "model_name": "LayoutModel",
          "state": {
            "_view_name": "LayoutView",
            "grid_template_rows": null,
            "right": null,
            "justify_content": null,
            "_view_module": "@jupyter-widgets/base",
            "overflow": null,
            "_model_module_version": "1.2.0",
            "_view_count": null,
            "flex_flow": null,
            "width": null,
            "min_width": null,
            "border": null,
            "align_items": null,
            "bottom": null,
            "_model_module": "@jupyter-widgets/base",
            "top": null,
            "grid_column": null,
            "overflow_y": null,
            "overflow_x": null,
            "grid_auto_flow": null,
            "grid_area": null,
            "grid_template_columns": null,
            "flex": null,
            "_model_name": "LayoutModel",
            "justify_items": null,
            "grid_row": null,
            "max_height": null,
            "align_content": null,
            "visibility": null,
            "align_self": null,
            "height": null,
            "min_height": null,
            "padding": null,
            "grid_auto_rows": null,
            "grid_gap": null,
            "max_width": null,
            "order": null,
            "_view_module_version": "1.2.0",
            "grid_template_areas": null,
            "object_position": null,
            "object_fit": null,
            "grid_auto_columns": null,
            "margin": null,
            "display": null,
            "left": null
          }
        },
        "94fcbcd2a8ca4aa8875f1794420dc045": {
          "model_module": "@jupyter-widgets/controls",
          "model_name": "HBoxModel",
          "state": {
            "_view_name": "HBoxView",
            "_dom_classes": [],
            "_model_name": "HBoxModel",
            "_view_module": "@jupyter-widgets/controls",
            "_model_module_version": "1.5.0",
            "_view_count": null,
            "_view_module_version": "1.5.0",
            "box_style": "",
            "layout": "IPY_MODEL_9534dee858104820b4467ba3b11c9a5e",
            "_model_module": "@jupyter-widgets/controls",
            "children": [
              "IPY_MODEL_6ec65bec59e54d6e96e738863562dbe6",
              "IPY_MODEL_747e06c6d8b64564948b3da35e3a3009"
            ]
          }
        },
        "9534dee858104820b4467ba3b11c9a5e": {
          "model_module": "@jupyter-widgets/base",
          "model_name": "LayoutModel",
          "state": {
            "_view_name": "LayoutView",
            "grid_template_rows": null,
            "right": null,
            "justify_content": null,
            "_view_module": "@jupyter-widgets/base",
            "overflow": null,
            "_model_module_version": "1.2.0",
            "_view_count": null,
            "flex_flow": null,
            "width": null,
            "min_width": null,
            "border": null,
            "align_items": null,
            "bottom": null,
            "_model_module": "@jupyter-widgets/base",
            "top": null,
            "grid_column": null,
            "overflow_y": null,
            "overflow_x": null,
            "grid_auto_flow": null,
            "grid_area": null,
            "grid_template_columns": null,
            "flex": null,
            "_model_name": "LayoutModel",
            "justify_items": null,
            "grid_row": null,
            "max_height": null,
            "align_content": null,
            "visibility": null,
            "align_self": null,
            "height": null,
            "min_height": null,
            "padding": null,
            "grid_auto_rows": null,
            "grid_gap": null,
            "max_width": null,
            "order": null,
            "_view_module_version": "1.2.0",
            "grid_template_areas": null,
            "object_position": null,
            "object_fit": null,
            "grid_auto_columns": null,
            "margin": null,
            "display": null,
            "left": null
          }
        },
        "6ec65bec59e54d6e96e738863562dbe6": {
          "model_module": "@jupyter-widgets/controls",
          "model_name": "FloatProgressModel",
          "state": {
            "_view_name": "ProgressView",
            "style": "IPY_MODEL_132a1b37a33943c79c60d6f77bad1544",
            "_dom_classes": [],
            "description": " 77%",
            "_model_name": "FloatProgressModel",
            "bar_style": "danger",
            "max": 50000,
            "_view_module": "@jupyter-widgets/controls",
            "_model_module_version": "1.5.0",
            "value": 38452,
            "_view_count": null,
            "_view_module_version": "1.5.0",
            "orientation": "horizontal",
            "min": 0,
            "description_tooltip": null,
            "_model_module": "@jupyter-widgets/controls",
            "layout": "IPY_MODEL_58b17d46fb254acfb2c581fccf8b0f7f"
          }
        },
        "747e06c6d8b64564948b3da35e3a3009": {
          "model_module": "@jupyter-widgets/controls",
          "model_name": "HTMLModel",
          "state": {
            "_view_name": "HTMLView",
            "style": "IPY_MODEL_ee82129b966e4ebc977304c0bc04c8c7",
            "_dom_classes": [],
            "description": "",
            "_model_name": "HTMLModel",
            "placeholder": "​",
            "_view_module": "@jupyter-widgets/controls",
            "_model_module_version": "1.5.0",
            "value": " 38452/50000 [00:00&lt;00:01, 9871.19 examples/s]",
            "_view_count": null,
            "_view_module_version": "1.5.0",
            "description_tooltip": null,
            "_model_module": "@jupyter-widgets/controls",
            "layout": "IPY_MODEL_61fed236377a473286f953e5f4bdf900"
          }
        },
        "132a1b37a33943c79c60d6f77bad1544": {
          "model_module": "@jupyter-widgets/controls",
          "model_name": "ProgressStyleModel",
          "state": {
            "_view_name": "StyleView",
            "_model_name": "ProgressStyleModel",
            "description_width": "initial",
            "_view_module": "@jupyter-widgets/base",
            "_model_module_version": "1.5.0",
            "_view_count": null,
            "_view_module_version": "1.2.0",
            "bar_color": null,
            "_model_module": "@jupyter-widgets/controls"
          }
        },
        "58b17d46fb254acfb2c581fccf8b0f7f": {
          "model_module": "@jupyter-widgets/base",
          "model_name": "LayoutModel",
          "state": {
            "_view_name": "LayoutView",
            "grid_template_rows": null,
            "right": null,
            "justify_content": null,
            "_view_module": "@jupyter-widgets/base",
            "overflow": null,
            "_model_module_version": "1.2.0",
            "_view_count": null,
            "flex_flow": null,
            "width": null,
            "min_width": null,
            "border": null,
            "align_items": null,
            "bottom": null,
            "_model_module": "@jupyter-widgets/base",
            "top": null,
            "grid_column": null,
            "overflow_y": null,
            "overflow_x": null,
            "grid_auto_flow": null,
            "grid_area": null,
            "grid_template_columns": null,
            "flex": null,
            "_model_name": "LayoutModel",
            "justify_items": null,
            "grid_row": null,
            "max_height": null,
            "align_content": null,
            "visibility": null,
            "align_self": null,
            "height": null,
            "min_height": null,
            "padding": null,
            "grid_auto_rows": null,
            "grid_gap": null,
            "max_width": null,
            "order": null,
            "_view_module_version": "1.2.0",
            "grid_template_areas": null,
            "object_position": null,
            "object_fit": null,
            "grid_auto_columns": null,
            "margin": null,
            "display": null,
            "left": null
          }
        },
        "ee82129b966e4ebc977304c0bc04c8c7": {
          "model_module": "@jupyter-widgets/controls",
          "model_name": "DescriptionStyleModel",
          "state": {
            "_view_name": "StyleView",
            "_model_name": "DescriptionStyleModel",
            "description_width": "",
            "_view_module": "@jupyter-widgets/base",
            "_model_module_version": "1.5.0",
            "_view_count": null,
            "_view_module_version": "1.2.0",
            "_model_module": "@jupyter-widgets/controls"
          }
        },
        "61fed236377a473286f953e5f4bdf900": {
          "model_module": "@jupyter-widgets/base",
          "model_name": "LayoutModel",
          "state": {
            "_view_name": "LayoutView",
            "grid_template_rows": null,
            "right": null,
            "justify_content": null,
            "_view_module": "@jupyter-widgets/base",
            "overflow": null,
            "_model_module_version": "1.2.0",
            "_view_count": null,
            "flex_flow": null,
            "width": null,
            "min_width": null,
            "border": null,
            "align_items": null,
            "bottom": null,
            "_model_module": "@jupyter-widgets/base",
            "top": null,
            "grid_column": null,
            "overflow_y": null,
            "overflow_x": null,
            "grid_auto_flow": null,
            "grid_area": null,
            "grid_template_columns": null,
            "flex": null,
            "_model_name": "LayoutModel",
            "justify_items": null,
            "grid_row": null,
            "max_height": null,
            "align_content": null,
            "visibility": null,
            "align_self": null,
            "height": null,
            "min_height": null,
            "padding": null,
            "grid_auto_rows": null,
            "grid_gap": null,
            "max_width": null,
            "order": null,
            "_view_module_version": "1.2.0",
            "grid_template_areas": null,
            "object_position": null,
            "object_fit": null,
            "grid_auto_columns": null,
            "margin": null,
            "display": null,
            "left": null
          }
        }
      }
    }
  },
  "cells": [
    {
      "cell_type": "markdown",
      "metadata": {
        "id": "g_wM75MwAoEn"
      },
      "source": [
        "# Sentiment classification - close to the state of the art\n",
        "\n",
        "The task of classifying sentiments of texts (for example movie or product reviews) has high practical significance in online marketing as well as financial prediction. This is a non-trivial task, since the concept of sentiment is not easily captured.\n",
        "\n",
        "For this assignment you have to use the larger [IMDB sentiment](https://ai.stanford.edu/~amaas/data/sentiment/aclImdb_v1.tar.gz) benchmark dataset from Stanford, an achieve close to state of the art results.\n",
        "\n",
        "The task is to try out multiple models in ascending complexity, namely:\n",
        "\n",
        "1. TFIDF + classical statistical model (eg. RandomForest)\n",
        "2. LSTM classification model\n",
        "3. LSTM model, where the embeddings are initialized with pre-trained word vectors\n",
        "4. fastText model\n",
        "5. BERT based model (you are advised to use a pre-trained one and finetune, since the resource consumption is considerable!)\n",
        "\n",
        "You should get over 90% validation accuracy (though nearly 94 is achievable).\n",
        "\n",
        "You are allowed to use any library or tool, though the Keras environment, and some wrappers on top (ie. Ktrain) make your life easier.\n",
        "\n",
        "\n",
        "\n"
      ]
    },
    {
      "cell_type": "markdown",
      "metadata": {
        "id": "2QADQva7AoEq"
      },
      "source": [
        "__Groups__\n",
        "This assignment is to be completed individually, two weeks after the class has finished. For the precise deadline please see canvas.\n",
        "\n",
        "__Format of submission__\n",
        "You need to submit a pdf of your Google Collab notebooks.\n",
        "\n",
        "__Due date__\n",
        "Two weeks after the class has finished. For the precise deadline please see canvas.\n",
        "\n",
        "Grade distribution:\n",
        "1. TFIDF + classical statistical model (eg. RandomForest) (25% of the final grade)\n",
        "2. LSTM classification model (15% of the final grade)\n",
        "3. LSTM model, where the embeddings are initialized with pre-trained word vectors, e.g. fastText, GloVe etc. (15% of the final grade)\n",
        "4. fastText model (15% of the final grade)\n",
        "5. BERT based model (you are advised to use a pre-trained one and finetune it, since the resource consumption is considerable!) (30% of the final grade). For BERT you should get over 90% validation accuracy (though nearly 94% is achievable).\n",
        "\n",
        "\n",
        "__For each of the models, the marks will be awarded according to the following three criteria__:\n",
        "\n",
        "(1) The (appropriately measured) accuracy of your prediction for the task. The more accurate the prediction is, the better. Note that you need to validate the predictive accuracy of your model on a hold-out of unseen data that the model has not been trained with.\n",
        "\n",
        "(2) How well you motivate the use of the model - what in this model's structure makes it suited for representing sentiment? After using the model for the task how well you evaluate the accuracy you got for each model and discuss the main advantages and disadvantages the model has in the particular modelling task. At best you take part of the modelling to support your arguments.\n",
        "\n",
        "(3) The consistency of your take-aways, i.e. what you have learned from your analyses. Also, analyze when the model is good and when and where it does not predict well.\n",
        "\n",
        "Please make sure that you comment with # on the separates steps of the code you have produced. For the verbal description and analyses plesae insert markdown cells.\n",
        "\n",
        "\n",
        "__Plagiarism__: The Frankfurt School does not accept any plagiarism. Data science is a collaborative exercise and you can discuss the research question with your classmates from other groups, if you like. You must not copy any code or text though. Plagiarism will be prosecuted and will result in a mark of 0 and you failing this class.\n",
        "\n",
        "After carefully reading this document and having had a look at the data you may still have questions. Please submit those question to the public Q&A board in canvas and we will answer each question, so "
      ]
    },
    {
      "cell_type": "markdown",
      "metadata": {
        "id": "x1yn618mAoFH"
      },
      "source": [
        "# Download with tf.datasets"
      ]
    },
    {
      "cell_type": "code",
      "metadata": {
        "ExecuteTime": {
          "end_time": "2020-10-11T12:12:20.884627Z",
          "start_time": "2020-10-11T12:12:17.747311Z"
        },
        "id": "UXx_Pj_7AoFJ"
      },
      "source": [
        "!pip install tensorflow-datasets > /dev/null"
      ],
      "execution_count": 1,
      "outputs": []
    },
    {
      "cell_type": "markdown",
      "metadata": {
        "id": "v44vHihnMNAH"
      },
      "source": [
        "# 0. Load dataset for preprocessing"
      ]
    },
    {
      "cell_type": "code",
      "metadata": {
        "ExecuteTime": {
          "end_time": "2020-10-11T12:12:25.800798Z",
          "start_time": "2020-10-11T12:12:24.009095Z"
        },
        "id": "bhG1CnaSAoFU"
      },
      "source": [
        "import tensorflow_datasets as tfds\n",
        "\n",
        "import numpy as np   \n",
        "import pandas as pd\n",
        "import xgboost as xgb\n",
        "import tensorflow as tf\n",
        "\n",
        "from tensorflow.keras.models import Sequential\n",
        "from tensorflow.keras.layers import Dense, Embedding, Dropout, LSTM, Bidirectional\n",
        "from tensorflow.keras.preprocessing.text import Tokenizer \n",
        "from tensorflow.keras.preprocessing import sequence"
      ],
      "execution_count": 2,
      "outputs": []
    },
    {
      "cell_type": "code",
      "metadata": {
        "ExecuteTime": {
          "end_time": "2020-10-11T13:25:00.555522Z",
          "start_time": "2020-10-11T13:22:43.089107Z"
        },
        "id": "oFk-Bh1xAoFc",
        "colab": {
          "base_uri": "https://localhost:8080/",
          "height": 365,
          "referenced_widgets": [
            "1f59495f20e443fba669ad4648994da3",
            "ebf85aa88eb2417e929aeffe4cdb5542",
            "11dc2493b4b044209082635b9600b5bc",
            "35e17f7ca95846e9b2e0f4f316911edd",
            "f6022ff684004893ac6cf52502127cf6",
            "479747f5205941ec80d49e046d633bb3",
            "2939ea14772d4b05ab359d98151a8ab1",
            "5e218809757847cf9ec06e49892d077f",
            "cfa0cae9434c47c4b989e1d774683b86",
            "182e585711544f9d9fedeb9a7fa5daef",
            "1afa9fb2c45a48dd8dd2a1989dab145d",
            "4e50c221ab9f4d89bd35ee63acb7af27",
            "a82ec08aeeb1478c93966cb2c6afd0b0",
            "6436e3ad2a22412fab1f7f3224b19b9f",
            "e5fd960c709248f79178d0c2ef187e7d",
            "4999d81e757e46ce876970ba42f8714b",
            "a4f72803c64c4bd59a2fd3f7ca2ed573",
            "5319c369c3c5403788c546bfb320b336",
            "c8fe00d6ea9d40bf9cee30531b05b7cf",
            "f2f6050adf8f437d9a7c021234f94030",
            "fbe20260f6744dc9bc52a2b5f2062e80",
            "3c0e33f570ce4edcb8d14d4b3a539d5d",
            "fd6da78ed34945a982aa76014bb79d01",
            "dd2ad873f2e14ca8b441614b5900e059",
            "f35cf125ac4b4f118d8e594f13c8308c",
            "4819fb9a37534d7cacea6522b39da875",
            "dbace5f0a71445ffb168324bd1a9c891",
            "bcd6778db33547febba0ebb457b396aa",
            "1129dc422cd54ebaae788cfe5cc41508",
            "5d885b878f3548da923ad146952c52e4",
            "9f5e57c495524a2aacb15a5a03badaea",
            "23a866d99d3743ceac07c16d19b2c520",
            "2304304a008f41a79cc5b5fc446059bf",
            "78e246b06e9243a9b6e62fa3a0e2fc05",
            "d3ae2045436e4cb28bbf2ba456f17589",
            "e856379b5c0f473a9837694105591419",
            "ee5307319e43458198b58f21a17c7089",
            "cc2934d819244868a63613e2a7195dff",
            "f93b7ea1ee914c28a504fc349f722b84",
            "6f923ba90460458a9a9c72e39911ab2b",
            "2eaa00fa93f944b09caf0172a6b97b92",
            "9eaa28b7e5fa4be28fbae1f6045364bf",
            "04f076b6b3ad4fb3b1a56f0214a71a31",
            "67a59802ff51440c8cb3f105620743eb",
            "40275622fa2945c6ab96dd7e718ecdd0",
            "e00fa4e2067d406891e44b71d2a4dfb1",
            "392286f285624dcc9c3577fc7f4cdcc8",
            "0fd48fcf7a2d4fd0984c11c96ccf1735",
            "0d50651ffba34388a39668edee19c093",
            "f9fb4696f1d0460dac9a4a688b1a0e0b",
            "2ab1b0781c124252823c0149946a9934",
            "66152a84e7ac4774a522a1339c2901c8",
            "a0abe1fac97b4cfba5e7c4f634d98c26",
            "82783394f2ec4895b0004801b5733aa2",
            "de7937a7142b4b329bc7cd3a9de4f3c9",
            "dd8e6cd8d05f40edaab0d2ee79b3e780",
            "94fcbcd2a8ca4aa8875f1794420dc045",
            "9534dee858104820b4467ba3b11c9a5e",
            "6ec65bec59e54d6e96e738863562dbe6",
            "747e06c6d8b64564948b3da35e3a3009",
            "132a1b37a33943c79c60d6f77bad1544",
            "58b17d46fb254acfb2c581fccf8b0f7f",
            "ee82129b966e4ebc977304c0bc04c8c7",
            "61fed236377a473286f953e5f4bdf900"
          ]
        },
        "outputId": "8f5f1d02-c324-408a-e78f-a0ff28052cee"
      },
      "source": [
        "(ds_train, ds_test),ds_info = tfds.load(\n",
        "    name=\"imdb_reviews\",\n",
        "    split=[\"train\",\"test\"],\n",
        "    shuffle_files=True,\n",
        "    as_supervised=True,\n",
        "    with_info=True)"
      ],
      "execution_count": 3,
      "outputs": [
        {
          "output_type": "stream",
          "text": [
            "\u001b[1mDownloading and preparing dataset imdb_reviews/plain_text/1.0.0 (download: 80.23 MiB, generated: Unknown size, total: 80.23 MiB) to /root/tensorflow_datasets/imdb_reviews/plain_text/1.0.0...\u001b[0m\n"
          ],
          "name": "stdout"
        },
        {
          "output_type": "display_data",
          "data": {
            "application/vnd.jupyter.widget-view+json": {
              "model_id": "1f59495f20e443fba669ad4648994da3",
              "version_minor": 0,
              "version_major": 2
            },
            "text/plain": [
              "HBox(children=(FloatProgress(value=1.0, bar_style='info', description='Dl Completed...', max=1.0, style=Progre…"
            ]
          },
          "metadata": {
            "tags": []
          }
        },
        {
          "output_type": "display_data",
          "data": {
            "application/vnd.jupyter.widget-view+json": {
              "model_id": "cfa0cae9434c47c4b989e1d774683b86",
              "version_minor": 0,
              "version_major": 2
            },
            "text/plain": [
              "HBox(children=(FloatProgress(value=1.0, bar_style='info', description='Dl Size...', max=1.0, style=ProgressSty…"
            ]
          },
          "metadata": {
            "tags": []
          }
        },
        {
          "output_type": "stream",
          "text": [
            "\n",
            "\n",
            "\n",
            "\n"
          ],
          "name": "stdout"
        },
        {
          "output_type": "display_data",
          "data": {
            "application/vnd.jupyter.widget-view+json": {
              "model_id": "a4f72803c64c4bd59a2fd3f7ca2ed573",
              "version_minor": 0,
              "version_major": 2
            },
            "text/plain": [
              "HBox(children=(FloatProgress(value=1.0, bar_style='info', max=1.0), HTML(value='')))"
            ]
          },
          "metadata": {
            "tags": []
          }
        },
        {
          "output_type": "stream",
          "text": [
            "\rShuffling and writing examples to /root/tensorflow_datasets/imdb_reviews/plain_text/1.0.0.incompleteIVE905/imdb_reviews-train.tfrecord\n"
          ],
          "name": "stdout"
        },
        {
          "output_type": "display_data",
          "data": {
            "application/vnd.jupyter.widget-view+json": {
              "model_id": "f35cf125ac4b4f118d8e594f13c8308c",
              "version_minor": 0,
              "version_major": 2
            },
            "text/plain": [
              "HBox(children=(FloatProgress(value=0.0, max=25000.0), HTML(value='')))"
            ]
          },
          "metadata": {
            "tags": []
          }
        },
        {
          "output_type": "stream",
          "text": [
            "\r"
          ],
          "name": "stdout"
        },
        {
          "output_type": "display_data",
          "data": {
            "application/vnd.jupyter.widget-view+json": {
              "model_id": "2304304a008f41a79cc5b5fc446059bf",
              "version_minor": 0,
              "version_major": 2
            },
            "text/plain": [
              "HBox(children=(FloatProgress(value=1.0, bar_style='info', max=1.0), HTML(value='')))"
            ]
          },
          "metadata": {
            "tags": []
          }
        },
        {
          "output_type": "stream",
          "text": [
            "\rShuffling and writing examples to /root/tensorflow_datasets/imdb_reviews/plain_text/1.0.0.incompleteIVE905/imdb_reviews-test.tfrecord\n"
          ],
          "name": "stdout"
        },
        {
          "output_type": "display_data",
          "data": {
            "application/vnd.jupyter.widget-view+json": {
              "model_id": "2eaa00fa93f944b09caf0172a6b97b92",
              "version_minor": 0,
              "version_major": 2
            },
            "text/plain": [
              "HBox(children=(FloatProgress(value=0.0, max=25000.0), HTML(value='')))"
            ]
          },
          "metadata": {
            "tags": []
          }
        },
        {
          "output_type": "stream",
          "text": [
            "\r"
          ],
          "name": "stdout"
        },
        {
          "output_type": "display_data",
          "data": {
            "application/vnd.jupyter.widget-view+json": {
              "model_id": "0d50651ffba34388a39668edee19c093",
              "version_minor": 0,
              "version_major": 2
            },
            "text/plain": [
              "HBox(children=(FloatProgress(value=1.0, bar_style='info', max=1.0), HTML(value='')))"
            ]
          },
          "metadata": {
            "tags": []
          }
        },
        {
          "output_type": "stream",
          "text": [
            "\rShuffling and writing examples to /root/tensorflow_datasets/imdb_reviews/plain_text/1.0.0.incompleteIVE905/imdb_reviews-unsupervised.tfrecord\n"
          ],
          "name": "stdout"
        },
        {
          "output_type": "display_data",
          "data": {
            "application/vnd.jupyter.widget-view+json": {
              "model_id": "94fcbcd2a8ca4aa8875f1794420dc045",
              "version_minor": 0,
              "version_major": 2
            },
            "text/plain": [
              "HBox(children=(FloatProgress(value=0.0, max=50000.0), HTML(value='')))"
            ]
          },
          "metadata": {
            "tags": []
          }
        },
        {
          "output_type": "stream",
          "text": [
            "WARNING:absl:Dataset is using deprecated text encoder API which will be removed soon. Please use the plain_text version of the dataset and migrate to `tensorflow_text`.\n"
          ],
          "name": "stderr"
        },
        {
          "output_type": "stream",
          "text": [
            "\u001b[1mDataset imdb_reviews downloaded and prepared to /root/tensorflow_datasets/imdb_reviews/plain_text/1.0.0. Subsequent calls will reuse this data.\u001b[0m\n",
            "\r"
          ],
          "name": "stdout"
        }
      ]
    },
    {
      "cell_type": "code",
      "metadata": {
        "id": "RMiCbax4bMpS"
      },
      "source": [
        "df_train = tfds.as_dataframe(ds_train, ds_info)\n",
        "df_test = tfds.as_dataframe(ds_test, ds_info)\n",
        "df = df_train.append(df_test, ignore_index=True)\n",
        "df['text'] = df['text'].str.decode(\"utf-8\")"
      ],
      "execution_count": 4,
      "outputs": []
    },
    {
      "cell_type": "markdown",
      "metadata": {
        "id": "OvkkplaTry32"
      },
      "source": [
        "# 1. TFIDF + classical statistical model with RandomForest\n"
      ]
    },
    {
      "cell_type": "code",
      "metadata": {
        "colab": {
          "base_uri": "https://localhost:8080/"
        },
        "id": "sSD0tQYFrnsU",
        "outputId": "d9369d96-ac9a-49b9-945b-48559563d4f9"
      },
      "source": [
        "import nltk  # For test pre-processing\n",
        "from nltk.corpus import stopwords\n",
        "nltk.download('stopwords')\n",
        "nltk.download('punkt')\n",
        "nltk.download('wordnet')\n",
        "from nltk.corpus import stopwords\n",
        "from nltk.tokenize import RegexpTokenizer\n",
        "from nltk.stem import WordNetLemmatizer\n",
        "\n",
        "from sklearn.feature_extraction.text import TfidfVectorizer\n",
        "from sklearn.metrics import accuracy_score\n",
        "from sklearn.model_selection import train_test_split\n",
        "\n",
        "from bs4 import BeautifulSoup"
      ],
      "execution_count": 5,
      "outputs": [
        {
          "output_type": "stream",
          "text": [
            "[nltk_data] Downloading package stopwords to /root/nltk_data...\n",
            "[nltk_data]   Unzipping corpora/stopwords.zip.\n",
            "[nltk_data] Downloading package punkt to /root/nltk_data...\n",
            "[nltk_data]   Unzipping tokenizers/punkt.zip.\n",
            "[nltk_data] Downloading package wordnet to /root/nltk_data...\n",
            "[nltk_data]   Unzipping corpora/wordnet.zip.\n"
          ],
          "name": "stdout"
        }
      ]
    },
    {
      "cell_type": "code",
      "metadata": {
        "id": "8aUTA4z7I29U"
      },
      "source": [
        "def clean_text(text):\n",
        "    \n",
        "    # remove html content\n",
        "    text = BeautifulSoup(text).get_text()\n",
        "    \n",
        "    # tokenize the text and drop out punctuation\n",
        "    tokenizer = RegexpTokenizer(r'\\w+') # picks out sequences of alphanumeric characters as tokens and drops everything else\n",
        "    word_tokens = tokenizer.tokenize(text)\n",
        "    \n",
        "    # lemmetize the token\n",
        "    lemmmatizer = WordNetLemmatizer()\n",
        "    \n",
        "    # remove stop words\n",
        "    stop_words = set(stopwords.words(\"english\")) \n",
        "    text = [lemmmatizer.lemmatize(token.lower()) for token in word_tokens if token not in stop_words]\n",
        "    \n",
        "    return \" \".join(text)"
      ],
      "execution_count": 6,
      "outputs": []
    },
    {
      "cell_type": "code",
      "metadata": {
        "id": "dlGhJRG7uEs4"
      },
      "source": [
        "df['cleaned_text'] = df['text'].apply(clean_text)\n",
        "X_train, X_test, y_train, y_test = train_test_split(df['cleaned_text'], df['label'], test_size=0.1, random_state=42)\n",
        "X_train, X_valid, y_train, y_valid = train_test_split(X_train, y_train, test_size=0.1, random_state=42)"
      ],
      "execution_count": 7,
      "outputs": []
    },
    {
      "cell_type": "code",
      "metadata": {
        "id": "9jhik0YJ179K"
      },
      "source": [
        "# Tfidf transform features\n",
        "vectorizer = TfidfVectorizer(strip_accents='ascii')\n",
        "X_train_tfidf = vectorizer.fit_transform(X_train)\n",
        "X_valid_tfidf = vectorizer.transform(X_valid)\n",
        "X_test_tfidf = vectorizer.transform(X_test)\n",
        "# cast df into DMatrix\n",
        "dtrain_tfidf = xgb.DMatrix(X_train_tfidf, label=y_train)\n",
        "dvalid_tfidf = xgb.DMatrix(X_valid_tfidf, label=y_valid)\n",
        "dtest_tfidf = xgb.DMatrix(X_test_tfidf, label=y_test)"
      ],
      "execution_count": 8,
      "outputs": []
    },
    {
      "cell_type": "code",
      "metadata": {
        "colab": {
          "base_uri": "https://localhost:8080/"
        },
        "id": "AlFkX0XFhYr1",
        "outputId": "fca7c204-8de8-4261-db51-79803323bdf1"
      },
      "source": [
        "params = {\n",
        "    # Other parameters\n",
        "    'objective':'binary:logistic',\n",
        "    'eval_metric':\"error\"\n",
        "}\n",
        "num_boost_round = 999\n",
        "model = xgb.train(\n",
        "    params,\n",
        "    dtrain_tfidf,\n",
        "    num_boost_round=num_boost_round,\n",
        "    evals=[(dvalid_tfidf, \"Valid\")],\n",
        "    early_stopping_rounds=10\n",
        ")"
      ],
      "execution_count": 9,
      "outputs": [
        {
          "output_type": "stream",
          "text": [
            "[0]\tValid-error:0.293778\n",
            "Will train until Valid-error hasn't improved in 10 rounds.\n",
            "[1]\tValid-error:0.262\n",
            "[2]\tValid-error:0.254889\n",
            "[3]\tValid-error:0.249556\n",
            "[4]\tValid-error:0.238667\n",
            "[5]\tValid-error:0.233778\n",
            "[6]\tValid-error:0.228889\n",
            "[7]\tValid-error:0.228222\n",
            "[8]\tValid-error:0.223778\n",
            "[9]\tValid-error:0.223111\n",
            "[10]\tValid-error:0.222889\n",
            "[11]\tValid-error:0.218222\n",
            "[12]\tValid-error:0.215556\n",
            "[13]\tValid-error:0.211556\n",
            "[14]\tValid-error:0.209333\n",
            "[15]\tValid-error:0.206889\n",
            "[16]\tValid-error:0.206\n",
            "[17]\tValid-error:0.205778\n",
            "[18]\tValid-error:0.203111\n",
            "[19]\tValid-error:0.200222\n",
            "[20]\tValid-error:0.199778\n",
            "[21]\tValid-error:0.196444\n",
            "[22]\tValid-error:0.197111\n",
            "[23]\tValid-error:0.196222\n",
            "[24]\tValid-error:0.193111\n",
            "[25]\tValid-error:0.192\n",
            "[26]\tValid-error:0.190667\n",
            "[27]\tValid-error:0.190444\n",
            "[28]\tValid-error:0.189333\n",
            "[29]\tValid-error:0.187556\n",
            "[30]\tValid-error:0.186889\n",
            "[31]\tValid-error:0.182444\n",
            "[32]\tValid-error:0.181778\n",
            "[33]\tValid-error:0.180889\n",
            "[34]\tValid-error:0.177556\n",
            "[35]\tValid-error:0.176889\n",
            "[36]\tValid-error:0.174444\n",
            "[37]\tValid-error:0.176\n",
            "[38]\tValid-error:0.175111\n",
            "[39]\tValid-error:0.174\n",
            "[40]\tValid-error:0.173778\n",
            "[41]\tValid-error:0.173333\n",
            "[42]\tValid-error:0.172667\n",
            "[43]\tValid-error:0.172667\n",
            "[44]\tValid-error:0.173556\n",
            "[45]\tValid-error:0.172444\n",
            "[46]\tValid-error:0.172444\n",
            "[47]\tValid-error:0.171111\n",
            "[48]\tValid-error:0.170889\n",
            "[49]\tValid-error:0.169111\n",
            "[50]\tValid-error:0.169778\n",
            "[51]\tValid-error:0.169778\n",
            "[52]\tValid-error:0.171333\n",
            "[53]\tValid-error:0.171111\n",
            "[54]\tValid-error:0.170667\n",
            "[55]\tValid-error:0.169333\n",
            "[56]\tValid-error:0.168222\n",
            "[57]\tValid-error:0.168889\n",
            "[58]\tValid-error:0.167111\n",
            "[59]\tValid-error:0.165778\n",
            "[60]\tValid-error:0.166667\n",
            "[61]\tValid-error:0.167556\n",
            "[62]\tValid-error:0.167111\n",
            "[63]\tValid-error:0.166667\n",
            "[64]\tValid-error:0.164889\n",
            "[65]\tValid-error:0.163556\n",
            "[66]\tValid-error:0.164\n",
            "[67]\tValid-error:0.164444\n",
            "[68]\tValid-error:0.164667\n",
            "[69]\tValid-error:0.164667\n",
            "[70]\tValid-error:0.164222\n",
            "[71]\tValid-error:0.164222\n",
            "[72]\tValid-error:0.162222\n",
            "[73]\tValid-error:0.161333\n",
            "[74]\tValid-error:0.160222\n",
            "[75]\tValid-error:0.162\n",
            "[76]\tValid-error:0.162222\n",
            "[77]\tValid-error:0.162\n",
            "[78]\tValid-error:0.161778\n",
            "[79]\tValid-error:0.161778\n",
            "[80]\tValid-error:0.160667\n",
            "[81]\tValid-error:0.161111\n",
            "[82]\tValid-error:0.16\n",
            "[83]\tValid-error:0.159111\n",
            "[84]\tValid-error:0.158889\n",
            "[85]\tValid-error:0.16\n",
            "[86]\tValid-error:0.160667\n",
            "[87]\tValid-error:0.16\n",
            "[88]\tValid-error:0.159111\n",
            "[89]\tValid-error:0.16\n",
            "[90]\tValid-error:0.159778\n",
            "[91]\tValid-error:0.158667\n",
            "[92]\tValid-error:0.159111\n",
            "[93]\tValid-error:0.159556\n",
            "[94]\tValid-error:0.158222\n",
            "[95]\tValid-error:0.159111\n",
            "[96]\tValid-error:0.158444\n",
            "[97]\tValid-error:0.157556\n",
            "[98]\tValid-error:0.158\n",
            "[99]\tValid-error:0.156889\n",
            "[100]\tValid-error:0.157556\n",
            "[101]\tValid-error:0.157333\n",
            "[102]\tValid-error:0.157556\n",
            "[103]\tValid-error:0.157333\n",
            "[104]\tValid-error:0.156667\n",
            "[105]\tValid-error:0.156667\n",
            "[106]\tValid-error:0.156444\n",
            "[107]\tValid-error:0.156444\n",
            "[108]\tValid-error:0.156444\n",
            "[109]\tValid-error:0.156222\n",
            "[110]\tValid-error:0.156667\n",
            "[111]\tValid-error:0.156222\n",
            "[112]\tValid-error:0.154889\n",
            "[113]\tValid-error:0.156\n",
            "[114]\tValid-error:0.155333\n",
            "[115]\tValid-error:0.154889\n",
            "[116]\tValid-error:0.155111\n",
            "[117]\tValid-error:0.155111\n",
            "[118]\tValid-error:0.154222\n",
            "[119]\tValid-error:0.153778\n",
            "[120]\tValid-error:0.152\n",
            "[121]\tValid-error:0.151111\n",
            "[122]\tValid-error:0.151111\n",
            "[123]\tValid-error:0.151333\n",
            "[124]\tValid-error:0.151111\n",
            "[125]\tValid-error:0.151333\n",
            "[126]\tValid-error:0.151556\n",
            "[127]\tValid-error:0.152\n",
            "[128]\tValid-error:0.151778\n",
            "[129]\tValid-error:0.151778\n",
            "[130]\tValid-error:0.151556\n",
            "[131]\tValid-error:0.150444\n",
            "[132]\tValid-error:0.149111\n",
            "[133]\tValid-error:0.149111\n",
            "[134]\tValid-error:0.149778\n",
            "[135]\tValid-error:0.150444\n",
            "[136]\tValid-error:0.149778\n",
            "[137]\tValid-error:0.149333\n",
            "[138]\tValid-error:0.15\n",
            "[139]\tValid-error:0.149778\n",
            "[140]\tValid-error:0.150222\n",
            "[141]\tValid-error:0.150444\n",
            "[142]\tValid-error:0.15\n",
            "Stopping. Best iteration:\n",
            "[132]\tValid-error:0.149111\n",
            "\n"
          ],
          "name": "stdout"
        }
      ]
    },
    {
      "cell_type": "code",
      "metadata": {
        "colab": {
          "base_uri": "https://localhost:8080/"
        },
        "id": "YJDXEgc-mP5A",
        "outputId": "d950785a-8534-497a-96d2-ae005c75b7db"
      },
      "source": [
        "predictions_train = model.predict(dtrain_tfidf)\n",
        "print(f\"train accuracy: {accuracy_score(y_train,predictions_train>0.5)}\")"
      ],
      "execution_count": 10,
      "outputs": [
        {
          "output_type": "stream",
          "text": [
            "train accuracy: 0.9514567901234567\n"
          ],
          "name": "stdout"
        }
      ]
    },
    {
      "cell_type": "code",
      "metadata": {
        "colab": {
          "base_uri": "https://localhost:8080/"
        },
        "id": "SbGZ4Smnl5fP",
        "outputId": "842114d3-3667-4554-e82c-ff284da029fb"
      },
      "source": [
        "predictions = model.predict(dtest_tfidf)\n",
        "print(f\"test accruracy: {accuracy_score(y_test,predictions>0.5)}\")"
      ],
      "execution_count": 11,
      "outputs": [
        {
          "output_type": "stream",
          "text": [
            "test accruracy: 0.8598\n"
          ],
          "name": "stdout"
        }
      ]
    },
    {
      "cell_type": "code",
      "metadata": {
        "id": "sP0zxljAH3wh"
      },
      "source": [
        "df.loc[X_test.index]['pred_Tfidf'] = predictions"
      ],
      "execution_count": 12,
      "outputs": []
    },
    {
      "cell_type": "code",
      "metadata": {
        "colab": {
          "base_uri": "https://localhost:8080/",
          "height": 402
        },
        "id": "q8zKEbFNI6iG",
        "outputId": "bf5a0fe9-1d3e-48af-8b70-42072cde22f6"
      },
      "source": [
        "df.loc[X_test.index]"
      ],
      "execution_count": 13,
      "outputs": [
        {
          "output_type": "execute_result",
          "data": {
            "text/html": [
              "<div>\n",
              "<style scoped>\n",
              "    .dataframe tbody tr th:only-of-type {\n",
              "        vertical-align: middle;\n",
              "    }\n",
              "\n",
              "    .dataframe tbody tr th {\n",
              "        vertical-align: top;\n",
              "    }\n",
              "\n",
              "    .dataframe thead th {\n",
              "        text-align: right;\n",
              "    }\n",
              "</style>\n",
              "<table border=\"1\" class=\"dataframe\">\n",
              "  <thead>\n",
              "    <tr style=\"text-align: right;\">\n",
              "      <th></th>\n",
              "      <th>label</th>\n",
              "      <th>text</th>\n",
              "      <th>cleaned_text</th>\n",
              "    </tr>\n",
              "  </thead>\n",
              "  <tbody>\n",
              "    <tr>\n",
              "      <th>33553</th>\n",
              "      <td>0</td>\n",
              "      <td>I supposed 'Scarecrow Gone Wild' is a dull sla...</td>\n",
              "      <td>i supposed scarecrow gone wild dull slasher fl...</td>\n",
              "    </tr>\n",
              "    <tr>\n",
              "      <th>9427</th>\n",
              "      <td>0</td>\n",
              "      <td>Undeveloped/unbelievable story line,(by the ti...</td>\n",
              "      <td>undeveloped unbelievable story line time i sor...</td>\n",
              "    </tr>\n",
              "    <tr>\n",
              "      <th>199</th>\n",
              "      <td>1</td>\n",
              "      <td>This movie is good for what it is, and unprete...</td>\n",
              "      <td>this movie good unpretentious i watch twice ho...</td>\n",
              "    </tr>\n",
              "    <tr>\n",
              "      <th>12447</th>\n",
              "      <td>1</td>\n",
              "      <td>This film provides us with an interesting remi...</td>\n",
              "      <td>this film provides u interesting reminder easy...</td>\n",
              "    </tr>\n",
              "    <tr>\n",
              "      <th>39489</th>\n",
              "      <td>1</td>\n",
              "      <td>Gentle and genial film seems to have been over...</td>\n",
              "      <td>gentle genial film seems overlooked triviality...</td>\n",
              "    </tr>\n",
              "    <tr>\n",
              "      <th>...</th>\n",
              "      <td>...</td>\n",
              "      <td>...</td>\n",
              "      <td>...</td>\n",
              "    </tr>\n",
              "    <tr>\n",
              "      <th>39885</th>\n",
              "      <td>1</td>\n",
              "      <td>This movie was very good, not great but very g...</td>\n",
              "      <td>this movie good great good it based one man pl...</td>\n",
              "    </tr>\n",
              "    <tr>\n",
              "      <th>17566</th>\n",
              "      <td>1</td>\n",
              "      <td>I must give How She Move a near-perfect rating...</td>\n",
              "      <td>i must give how she move near perfect rating c...</td>\n",
              "    </tr>\n",
              "    <tr>\n",
              "      <th>16062</th>\n",
              "      <td>1</td>\n",
              "      <td>Fair drama/love story movie that focuses on th...</td>\n",
              "      <td>fair drama love story movie focus life blue co...</td>\n",
              "    </tr>\n",
              "    <tr>\n",
              "      <th>48445</th>\n",
              "      <td>0</td>\n",
              "      <td>I'm sorry but this guy is not funny. I swear I...</td>\n",
              "      <td>i sorry guy funny i swear i heard heard 4 year...</td>\n",
              "    </tr>\n",
              "    <tr>\n",
              "      <th>20382</th>\n",
              "      <td>0</td>\n",
              "      <td>The characters are cliched and predictable, wi...</td>\n",
              "      <td>the character cliched predictable everyone eit...</td>\n",
              "    </tr>\n",
              "  </tbody>\n",
              "</table>\n",
              "<p>5000 rows × 3 columns</p>\n",
              "</div>"
            ],
            "text/plain": [
              "       label  ...                                       cleaned_text\n",
              "33553      0  ...  i supposed scarecrow gone wild dull slasher fl...\n",
              "9427       0  ...  undeveloped unbelievable story line time i sor...\n",
              "199        1  ...  this movie good unpretentious i watch twice ho...\n",
              "12447      1  ...  this film provides u interesting reminder easy...\n",
              "39489      1  ...  gentle genial film seems overlooked triviality...\n",
              "...      ...  ...                                                ...\n",
              "39885      1  ...  this movie good great good it based one man pl...\n",
              "17566      1  ...  i must give how she move near perfect rating c...\n",
              "16062      1  ...  fair drama love story movie focus life blue co...\n",
              "48445      0  ...  i sorry guy funny i swear i heard heard 4 year...\n",
              "20382      0  ...  the character cliched predictable everyone eit...\n",
              "\n",
              "[5000 rows x 3 columns]"
            ]
          },
          "metadata": {
            "tags": []
          },
          "execution_count": 13
        }
      ]
    },
    {
      "cell_type": "code",
      "metadata": {
        "id": "3fryHP-EJTgi"
      },
      "source": [
        "df_error_analysis = pd.concat([df.loc[X_test.index], pd.Series(predictions>0.5)], ignore_index=True,axis=1)"
      ],
      "execution_count": 14,
      "outputs": []
    },
    {
      "cell_type": "code",
      "metadata": {
        "id": "LZVL3xTxKRGr"
      },
      "source": [
        "df_error_analysis=df.loc[X_test.index]"
      ],
      "execution_count": 15,
      "outputs": []
    },
    {
      "cell_type": "code",
      "metadata": {
        "id": "iYb25LbRJlq7"
      },
      "source": [
        "df_error_analysis.reset_index(inplace=True,drop=True)"
      ],
      "execution_count": 16,
      "outputs": []
    },
    {
      "cell_type": "code",
      "metadata": {
        "id": "fzxO8ZIGMLTk"
      },
      "source": [
        "df_error_analysis.insert(1, \"prediction_tfidf\", predictions>0.5)"
      ],
      "execution_count": 17,
      "outputs": []
    },
    {
      "cell_type": "code",
      "metadata": {
        "colab": {
          "base_uri": "https://localhost:8080/",
          "height": 1000
        },
        "id": "YG-3YnQDMPOH",
        "outputId": "b5e06ed9-75c4-49ca-db85-e3543280152a"
      },
      "source": [
        "pd.set_option('display.max_colwidth', -1)\n",
        "df_error_analysis[df_error_analysis['label']!=df_error_analysis['prediction_tfidf']]"
      ],
      "execution_count": 18,
      "outputs": [
        {
          "output_type": "stream",
          "text": [
            "/usr/local/lib/python3.6/dist-packages/ipykernel_launcher.py:1: FutureWarning: Passing a negative integer is deprecated in version 1.0 and will not be supported in future version. Instead, use None to not limit the column width.\n",
            "  \"\"\"Entry point for launching an IPython kernel.\n"
          ],
          "name": "stderr"
        },
        {
          "output_type": "execute_result",
          "data": {
            "text/html": [
              "<div>\n",
              "<style scoped>\n",
              "    .dataframe tbody tr th:only-of-type {\n",
              "        vertical-align: middle;\n",
              "    }\n",
              "\n",
              "    .dataframe tbody tr th {\n",
              "        vertical-align: top;\n",
              "    }\n",
              "\n",
              "    .dataframe thead th {\n",
              "        text-align: right;\n",
              "    }\n",
              "</style>\n",
              "<table border=\"1\" class=\"dataframe\">\n",
              "  <thead>\n",
              "    <tr style=\"text-align: right;\">\n",
              "      <th></th>\n",
              "      <th>label</th>\n",
              "      <th>prediction_tfidf</th>\n",
              "      <th>text</th>\n",
              "      <th>cleaned_text</th>\n",
              "    </tr>\n",
              "  </thead>\n",
              "  <tbody>\n",
              "    <tr>\n",
              "      <th>8</th>\n",
              "      <td>1</td>\n",
              "      <td>False</td>\n",
              "      <td>The basic storyline here is, Aditiya (Kumar) is the spoilt son of a millionaire, Ishwar (Bachan) who owns a toy industry, in Ishwar's eyes his son Aditya can do nothing wrong, Aditya's mother Sumitra (Shefali Shah) warns Ishwar to bring his son to the responsible path before it is too late, for Ishwar is a patient of lung cancer and has only 9 months to live, when his son elopes and marries Mitali (Chopra), Ishwar readily forgives Aditya, but when the happy couple Aditya and Mitali come back from a honeymoon, Mitali is pregnant, and this forces Ishwar to kick Aditya out of the house to make him more responsible, Aditya doesn't know his father is suffering from lung cancer, and he also doesn't know that his father has kicked him out of the hose to make him more responsible, Ishwar cannot bring himself to tall Aditya that he is about to die, with a hungry and pregnant wife. it is a race against time so Aditya does all he can to prove himself to his father, and the climax comes when Aditya gets his big break in the movie industry and his father tells him that he is about to die.&lt;br /&gt;&lt;br /&gt;This movie is absolutely brilliant, this is the breakthrough in Indian cinema that was needed for the Bollywood industry, Shah's directing is almost flawless, but which movie doesn't have flaws? The best part if this movie is the father son relationship which is a tearjerker. the song interludes is just placed at the right time, the scenery is good, the only part where this movie fails is where the jokes between Boman Irani and Rajpal Yadav the jokes are too long and after a bit they are annoying, but overall this is a brilliant movie, i advise anybody Reading this review to go and watch it regardless of other reviews. 9/10</td>\n",
              "      <td>the basic storyline aditiya kumar spoilt son millionaire ishwar bachan owns toy industry ishwar eye son aditya nothing wrong aditya mother sumitra shefali shah warns ishwar bring son responsible path late ishwar patient lung cancer 9 month live son elopes marries mitali chopra ishwar readily forgives aditya happy couple aditya mitali come back honeymoon mitali pregnant force ishwar kick aditya house make responsible aditya know father suffering lung cancer also know father kicked hose make responsible ishwar cannot bring tall aditya die hungry pregnant wife race time aditya prove father climax come aditya get big break movie industry father tell die this movie absolutely brilliant breakthrough indian cinema needed bollywood industry shah directing almost flawless movie flaw the best part movie father son relationship tearjerker song interlude placed right time scenery good part movie fails joke boman irani rajpal yadav joke long bit annoying overall brilliant movie advise anybody reading review go watch regardless review 9 10</td>\n",
              "    </tr>\n",
              "    <tr>\n",
              "      <th>16</th>\n",
              "      <td>0</td>\n",
              "      <td>True</td>\n",
              "      <td>This Worldwide was the cheap man's version of what the NWA under Jim Crockett Junior and Jim Crockett Promotions made back in the 1980s on the localized \"Big 3\" Stations during the Saturday Morning/Afternoon Wrestling Craze. When Ted Turner got his hands on Crockett's failed version of NWA he turned it into World Championship Wrestling and proceeded to drop all NWA references all together. NWA World Wide and NWA Pro Wrestling were relabeled with the WCW logo and moved off the road to Disney/MGM Studios in Orlando, Florida and eventually became nothing more than recap shows for WCW's Nitro, Thunder, and Saturday Night. Worldwide was officially the last WCW program under Turner to air the weekend of the WCW buyout from Vince McMahon and WWF. Today the entire NWA World Wide/WCW Worldwide Video Tape Archive along with the entire NWA/WCW Video Tape Library in general lay in the vaults of WWE Headquarters in Stamford,Connecticut.</td>\n",
              "      <td>this worldwide cheap man version nwa jim crockett junior jim crockett promotion made back 1980s localized big 3 station saturday morning afternoon wrestling craze when ted turner got hand crockett failed version nwa turned world championship wrestling proceeded drop nwa reference together nwa world wide nwa pro wrestling relabeled wcw logo moved road disney mgm studio orlando florida eventually became nothing recap show wcw nitro thunder saturday night worldwide officially last wcw program turner air weekend wcw buyout vince mcmahon wwf today entire nwa world wide wcw worldwide video tape archive along entire nwa wcw video tape library general lay vault wwe headquarters stamford connecticut</td>\n",
              "    </tr>\n",
              "    <tr>\n",
              "      <th>27</th>\n",
              "      <td>0</td>\n",
              "      <td>True</td>\n",
              "      <td>Best thing I can say about this porno-horror film is: boobies boobies boobies !&lt;br /&gt;&lt;br /&gt;Beyond that, this film is made by some Hindu/Indian guy with some background in porn films or such .&lt;br /&gt;&lt;br /&gt;Plot: Talk-Show host and girlfriend are stalked by a psychopath who is angry over the plight of the homeless and takes it out on, you guessed it, beautiful real-estate agent ladies ! (films like these are why the slasher films of the 80's got a rep for misogyny)&lt;br /&gt;&lt;br /&gt;This film is not really a Slasher, but has the same sort of implausibilities and stereotypes: the dumb-ass cops, the villain is an old white male, and the women are busty babes . &lt;br /&gt;&lt;br /&gt;If you like porno-horror, this is your movie, otherwise stay away . (Adrienne fans will get to see her sagging breasts for a second or two)</td>\n",
              "      <td>best thing i say porno horror film booby booby booby beyond film made hindu indian guy background porn film plot talk show host girlfriend stalked psychopath angry plight homeless take guessed beautiful real estate agent lady film like slasher film 80 got rep misogyny this film really slasher sort implausibility stereotype dumb as cop villain old white male woman busty babe if like porno horror movie otherwise stay away adrienne fan get see sagging breast second two</td>\n",
              "    </tr>\n",
              "    <tr>\n",
              "      <th>30</th>\n",
              "      <td>1</td>\n",
              "      <td>False</td>\n",
              "      <td>To be brief, the story is paper thin and you can see the ending coming from a mile away, but Gene Kelly, Rita Hayworth, and an impossibly young Phil Silvers keep the movie afloat throughout and at times lift it right up into the air. A few of the songs are terrible clunkers (\"Poor John\" is a train wreck) but most of them are great fun, and the scene of Hayworth performing on the absurdly huge set for Kelly's rival has to be seen to be believed. Another treat is the perfect faux-NYC sets in the best Hollywood tradition.&lt;br /&gt;&lt;br /&gt;Another attraction, if you consider such things attractions, is the howlingly awful male \"chivalry\" toward women. The oily leering and transparent obsequiousness that passed for male charm back then (in the movies, at least) is presented in its most lurid form here. Some of the men are about like a cartoon wolf.&lt;br /&gt;&lt;br /&gt;One minor disappointment is Eve Arden trapped in a role so minor that she barely has a chance to do anything. I can imagine a lot of potential comic interplay between her and Silvers--a missed opportunity.</td>\n",
              "      <td>to brief story paper thin see ending coming mile away gene kelly rita hayworth impossibly young phil silver keep movie afloat throughout time lift right air a song terrible clunkers poor john train wreck great fun scene hayworth performing absurdly huge set kelly rival seen believed another treat perfect faux nyc set best hollywood tradition another attraction consider thing attraction howlingly awful male chivalry toward woman the oily leering transparent obsequiousness passed male charm back movie least presented lurid form some men like cartoon wolf one minor disappointment eve arden trapped role minor barely chance anything i imagine lot potential comic interplay silver missed opportunity</td>\n",
              "    </tr>\n",
              "    <tr>\n",
              "      <th>48</th>\n",
              "      <td>0</td>\n",
              "      <td>True</td>\n",
              "      <td>Thomas Edison had no other reason to make this film except to show that film can capture the electrocution of an innocent elephant. Edison was not a genius but a man out for money and profit; his love for life was measured by dollars, not experiences, as this film shows.</td>\n",
              "      <td>thomas edison reason make film except show film capture electrocution innocent elephant edison genius man money profit love life measured dollar experience film show</td>\n",
              "    </tr>\n",
              "    <tr>\n",
              "      <th>...</th>\n",
              "      <td>...</td>\n",
              "      <td>...</td>\n",
              "      <td>...</td>\n",
              "      <td>...</td>\n",
              "    </tr>\n",
              "    <tr>\n",
              "      <th>4981</th>\n",
              "      <td>1</td>\n",
              "      <td>False</td>\n",
              "      <td>SPOILER NOTHING BUT SPOILER&lt;br /&gt;&lt;br /&gt;I have to add my name to the list of folks who feel that the other viewers just don't get it. But no one has even mentioned the \"s\" word so far as I have seen.&lt;br /&gt;&lt;br /&gt;While I agree that the kid died I think we can be more specific: he committed suicide. He races down the slope in an old wagon, shoots off the cliff and...\"flies away\". Maybe the whole account of the form of death is allegory or maybe he does commit suicide in a wagon as laid out. In either case, he \"flies away\" (c'mon, not that tough a metaphor).&lt;br /&gt;&lt;br /&gt;Maybe I just have a thing for Tom Hanks, but I was ok with the narration. Besides he is raising $ for the WW2 memorial and you gotta love him for that.&lt;br /&gt;&lt;br /&gt;Oh yeah, I loved the movie and found it incredibly moving.</td>\n",
              "      <td>spoiler nothing but spoileri add name list folk feel viewer get but one even mentioned word far i seen while i agree kid died i think specific committed suicide he race slope old wagon shoot cliff fly away maybe whole account form death allegory maybe commit suicide wagon laid in either case fly away c mon tough metaphor maybe i thing tom hank i ok narration besides raising ww2 memorial gotta love oh yeah i loved movie found incredibly moving</td>\n",
              "    </tr>\n",
              "    <tr>\n",
              "      <th>4987</th>\n",
              "      <td>0</td>\n",
              "      <td>True</td>\n",
              "      <td>Independent film that would make Hollywood proud. The movie substitutes good looks for good acting, a cryptic plot for a good story line, and self-absorption for character development. May be I missed something, go see it for yourself.</td>\n",
              "      <td>independent film would make hollywood proud the movie substitute good look good acting cryptic plot good story line self absorption character development may i missed something go see</td>\n",
              "    </tr>\n",
              "    <tr>\n",
              "      <th>4990</th>\n",
              "      <td>0</td>\n",
              "      <td>True</td>\n",
              "      <td>This feels very stilted and patronizing to a great extent. The whole plot is extremely forced - especially the \"gallant\" effort to save the college from ruin, and the moralistic overtone (especially by the leading lady) grates a bit.&lt;br /&gt;&lt;br /&gt;But there are one or two comic moments that do help relieve the boredom, and the dancing is quite fun (especially for alleged amateurs - ha, ha!)&lt;br /&gt;&lt;br /&gt;The shop proprietor and the young guy doing spectacular tap dancing were particular highlights. And I liked Peter Hayes impressions of Charles Laughton and Ronald Coleman as well.</td>\n",
              "      <td>this feel stilted patronizing great extent the whole plot extremely forced especially gallant effort save college ruin moralistic overtone especially leading lady grate bit but one two comic moment help relieve boredom dancing quite fun especially alleged amateur ha ha the shop proprietor young guy spectacular tap dancing particular highlight and i liked peter hayes impression charles laughton ronald coleman well</td>\n",
              "    </tr>\n",
              "    <tr>\n",
              "      <th>4995</th>\n",
              "      <td>1</td>\n",
              "      <td>False</td>\n",
              "      <td>This movie was very good, not great but very good. It is based on a one man play by Ruben Santiago Hudson..yes he played most of the parts. On paper it looks like stunt casting. Yes let's round up all the black folks in Hollywood and put them in one movie. Halle Berry even produced it. The only name I didn't see was Oprah's ,thank god because it probably would of ended up being like a Hallmark movie. Instead this movie was not some sentimental mess. It was moving but not phony, the characters came and went with the exception of her husband, Pauline and the writer in question. The movie revolved around the universe of Nanny, Mrs Bill Crosby and how she raised the writer and took in people. Now being a jaded New Yorker when he said she took in sick people and old and then we see them going to a mental institution to pick up a man, I'm thinking looks like sister has a medicare scam going. Getting folks jobs and taking the medicare/caid checks But no she explains to Lou Gosset she just wants 25 bucks a week and did not want the money ahead of time. I think that part was put in the movie just for us jaded New Yorkers so we know she is not scamming the poor folks.(g) It was written by a New Yorker so he knows the deal(g).. She almost seems angelic and looking through a little boys eyes I can see why. She is married to a ne'er do well who is 17 years younger and fools around on her. Terrence Howard was born to play these type of parts. He was good but I would like to see him play something different. Markerson who plays Nanny is also very good. But for some reason the person who stood out to me was a small role played by Jeffery Wright. Where is this mans Oscar? He already won a Emmy and a Tony. He was in Shaft and he stole the movie. I did not even know who he was in this movie. He is a chameleon never the same. I never seen him play a bad part yet. This was a 5 minute role and he managed to make me both laugh and cry. I re-winded the scene few times ..one time because I didn't know who he was. His wife Carman Ejogo was excellent. I have seen her in roles before mostly mousy stuff. But she is so good here. I actually know people who act just like her. So it was very real to me Macy Grey who had one of the bigger parts was also very good. I was very happy that they did not kill Nanny off. I thought she was a goner in the beginning of the movie. BUT she was able to go home and start her old routine of taking care of people. There are women like that in most of our lives. People we might know or even lived with. Thank god for them, I do not know how they do it all of the time. I have a friend who lost 2 children and been through a lot of stuff but whenever I am feeling selfishly sorry for myself I call her and she always puts me in a good mood. THis movie is a tribute to all of those people. I only wish they they told us what happened to some of the characters like the the one armed man, Paulines boyfriend who is played by one of my favorite actors on HBO's The Wire, Omar, Rosie Perez's character and Richard the lesbian and Delroy Lindo's one arm man, he was mesmerizing in another small role.</td>\n",
              "      <td>this movie good great good it based one man play ruben santiago hudson yes played part on paper look like stunt casting yes let round black folk hollywood put one movie halle berry even produced the name i see oprah thank god probably would ended like hallmark movie instead movie sentimental mess it moving phony character came went exception husband pauline writer question the movie revolved around universe nanny mr bill crosby raised writer took people now jaded new yorker said took sick people old see going mental institution pick man i thinking look like sister medicare scam going getting folk job taking medicare caid check but explains lou gosset want 25 buck week want money ahead time i think part put movie u jaded new yorkers know scamming poor folk g it written new yorker know deal g she almost seems angelic looking little boy eye i see she married ne er well 17 year younger fool around terrence howard born play type part he good i would like see play something different markerson play nanny also good but reason person stood small role played jeffery wright where man oscar he already emmy tony he shaft stole movie i even know movie he chameleon never i never seen play bad part yet this 5 minute role managed make laugh cry i winded scene time one time i know his wife carman ejogo excellent i seen role mostly mousy stuff but good i actually know people act like so real macy grey one bigger part also good i happy kill nanny i thought goner beginning movie but able go home start old routine taking care people there woman like life people might know even lived thank god i know time i friend lost 2 child lot stuff whenever i feeling selfishly sorry i call always put good mood this movie tribute people i wish told u happened character like one armed man paulines boyfriend played one favorite actor hbo the wire omar rosie perez character richard lesbian delroy lindo one arm man mesmerizing another small role</td>\n",
              "    </tr>\n",
              "    <tr>\n",
              "      <th>4997</th>\n",
              "      <td>1</td>\n",
              "      <td>False</td>\n",
              "      <td>Fair drama/love story movie that focuses on the lives of blue collar people finding new life thru new love.The acting here is good but the film fails in cinematography,screenplay,directing and editing.The story/script is only average at best.This film will be enjoyed by Fonda and De Niro fans and by people who love middle age love stories where in the coartship is on a more wiser and cautious level.It would also be interesting for people who are interested on the subject matter regarding illiteracy.......</td>\n",
              "      <td>fair drama love story movie focus life blue collar people finding new life thru new love the acting good film fails cinematography screenplay directing editing the story script average best this film enjoyed fonda de niro fan people love middle age love story coartship wiser cautious level it would also interesting people interested subject matter regarding illiteracy</td>\n",
              "    </tr>\n",
              "  </tbody>\n",
              "</table>\n",
              "<p>701 rows × 4 columns</p>\n",
              "</div>"
            ],
            "text/plain": [
              "      label  ...                                                                                                                                                                                                                                                                                                                                                                                                                                                                                                                                                                                                                                                                                                                                                                                                                                                                                                                                                                                                                                                                                                                                                                                                                                                                                                                                                                                                                                                                                                                                                                                                                                                                                                                                                                                                                                                                                                                                                                                                          cleaned_text\n",
              "8     1      ...  the basic storyline aditiya kumar spoilt son millionaire ishwar bachan owns toy industry ishwar eye son aditya nothing wrong aditya mother sumitra shefali shah warns ishwar bring son responsible path late ishwar patient lung cancer 9 month live son elopes marries mitali chopra ishwar readily forgives aditya happy couple aditya mitali come back honeymoon mitali pregnant force ishwar kick aditya house make responsible aditya know father suffering lung cancer also know father kicked hose make responsible ishwar cannot bring tall aditya die hungry pregnant wife race time aditya prove father climax come aditya get big break movie industry father tell die this movie absolutely brilliant breakthrough indian cinema needed bollywood industry shah directing almost flawless movie flaw the best part movie father son relationship tearjerker song interlude placed right time scenery good part movie fails joke boman irani rajpal yadav joke long bit annoying overall brilliant movie advise anybody reading review go watch regardless review 9 10                                                                                                                                                                                                                                                                                                                                                                                                                                                                                                                                                                                                                                                                                                                                                                                                                                                                                                                                   \n",
              "16    0      ...  this worldwide cheap man version nwa jim crockett junior jim crockett promotion made back 1980s localized big 3 station saturday morning afternoon wrestling craze when ted turner got hand crockett failed version nwa turned world championship wrestling proceeded drop nwa reference together nwa world wide nwa pro wrestling relabeled wcw logo moved road disney mgm studio orlando florida eventually became nothing recap show wcw nitro thunder saturday night worldwide officially last wcw program turner air weekend wcw buyout vince mcmahon wwf today entire nwa world wide wcw worldwide video tape archive along entire nwa wcw video tape library general lay vault wwe headquarters stamford connecticut                                                                                                                                                                                                                                                                                                                                                                                                                                                                                                                                                                                                                                                                                                                                                                                                                                                                                                                                                                                                                                                                                                                                                                                                                                                                                         \n",
              "27    0      ...  best thing i say porno horror film booby booby booby beyond film made hindu indian guy background porn film plot talk show host girlfriend stalked psychopath angry plight homeless take guessed beautiful real estate agent lady film like slasher film 80 got rep misogyny this film really slasher sort implausibility stereotype dumb as cop villain old white male woman busty babe if like porno horror movie otherwise stay away adrienne fan get see sagging breast second two                                                                                                                                                                                                                                                                                                                                                                                                                                                                                                                                                                                                                                                                                                                                                                                                                                                                                                                                                                                                                                                                                                                                                                                                                                                                                                                                                                                                                                                                                                                              \n",
              "30    1      ...  to brief story paper thin see ending coming mile away gene kelly rita hayworth impossibly young phil silver keep movie afloat throughout time lift right air a song terrible clunkers poor john train wreck great fun scene hayworth performing absurdly huge set kelly rival seen believed another treat perfect faux nyc set best hollywood tradition another attraction consider thing attraction howlingly awful male chivalry toward woman the oily leering transparent obsequiousness passed male charm back movie least presented lurid form some men like cartoon wolf one minor disappointment eve arden trapped role minor barely chance anything i imagine lot potential comic interplay silver missed opportunity                                                                                                                                                                                                                                                                                                                                                                                                                                                                                                                                                                                                                                                                                                                                                                                                                                                                                                                                                                                                                                                                                                                                                                                                                                                                                       \n",
              "48    0      ...  thomas edison reason make film except show film capture electrocution innocent elephant edison genius man money profit love life measured dollar experience film show                                                                                                                                                                                                                                                                                                                                                                                                                                                                                                                                                                                                                                                                                                                                                                                                                                                                                                                                                                                                                                                                                                                                                                                                                                                                                                                                                                                                                                                                                                                                                                                                                                                                                                                                                                                                                                               \n",
              "...  ..      ...                                                                                                                                                                    ...                                                                                                                                                                                                                                                                                                                                                                                                                                                                                                                                                                                                                                                                                                                                                                                                                                                                                                                                                                                                                                                                                                                                                                                                                                                                                                                                                                                                                                                                                                                                                                                                                                                                                                                                                                                                                                               \n",
              "4981  1      ...  spoiler nothing but spoileri add name list folk feel viewer get but one even mentioned word far i seen while i agree kid died i think specific committed suicide he race slope old wagon shoot cliff fly away maybe whole account form death allegory maybe commit suicide wagon laid in either case fly away c mon tough metaphor maybe i thing tom hank i ok narration besides raising ww2 memorial gotta love oh yeah i loved movie found incredibly moving                                                                                                                                                                                                                                                                                                                                                                                                                                                                                                                                                                                                                                                                                                                                                                                                                                                                                                                                                                                                                                                                                                                                                                                                                                                                                                                                                                                                                                                                                                                                                      \n",
              "4987  0      ...  independent film would make hollywood proud the movie substitute good look good acting cryptic plot good story line self absorption character development may i missed something go see                                                                                                                                                                                                                                                                                                                                                                                                                                                                                                                                                                                                                                                                                                                                                                                                                                                                                                                                                                                                                                                                                                                                                                                                                                                                                                                                                                                                                                                                                                                                                                                                                                                                                                                                                                                                                             \n",
              "4990  0      ...  this feel stilted patronizing great extent the whole plot extremely forced especially gallant effort save college ruin moralistic overtone especially leading lady grate bit but one two comic moment help relieve boredom dancing quite fun especially alleged amateur ha ha the shop proprietor young guy spectacular tap dancing particular highlight and i liked peter hayes impression charles laughton ronald coleman well                                                                                                                                                                                                                                                                                                                                                                                                                                                                                                                                                                                                                                                                                                                                                                                                                                                                                                                                                                                                                                                                                                                                                                                                                                                                                                                                                                                                                                                                                                                                                                                    \n",
              "4995  1      ...  this movie good great good it based one man play ruben santiago hudson yes played part on paper look like stunt casting yes let round black folk hollywood put one movie halle berry even produced the name i see oprah thank god probably would ended like hallmark movie instead movie sentimental mess it moving phony character came went exception husband pauline writer question the movie revolved around universe nanny mr bill crosby raised writer took people now jaded new yorker said took sick people old see going mental institution pick man i thinking look like sister medicare scam going getting folk job taking medicare caid check but explains lou gosset want 25 buck week want money ahead time i think part put movie u jaded new yorkers know scamming poor folk g it written new yorker know deal g she almost seems angelic looking little boy eye i see she married ne er well 17 year younger fool around terrence howard born play type part he good i would like see play something different markerson play nanny also good but reason person stood small role played jeffery wright where man oscar he already emmy tony he shaft stole movie i even know movie he chameleon never i never seen play bad part yet this 5 minute role managed make laugh cry i winded scene time one time i know his wife carman ejogo excellent i seen role mostly mousy stuff but good i actually know people act like so real macy grey one bigger part also good i happy kill nanny i thought goner beginning movie but able go home start old routine taking care people there woman like life people might know even lived thank god i know time i friend lost 2 child lot stuff whenever i feeling selfishly sorry i call always put good mood this movie tribute people i wish told u happened character like one armed man paulines boyfriend played one favorite actor hbo the wire omar rosie perez character richard lesbian delroy lindo one arm man mesmerizing another small role\n",
              "4997  1      ...  fair drama love story movie focus life blue collar people finding new life thru new love the acting good film fails cinematography screenplay directing editing the story script average best this film enjoyed fonda de niro fan people love middle age love story coartship wiser cautious level it would also interesting people interested subject matter regarding illiteracy                                                                                                                                                                                                                                                                                                                                                                                                                                                                                                                                                                                                                                                                                                                                                                                                                                                                                                                                                                                                                                                                                                                                                                                                                                                                                                                                                                                                                                                                                                                                                                                                                                  \n",
              "\n",
              "[701 rows x 4 columns]"
            ]
          },
          "metadata": {
            "tags": []
          },
          "execution_count": 18
        }
      ]
    },
    {
      "cell_type": "markdown",
      "metadata": {
        "id": "cF5ywjsOCwgY"
      },
      "source": [
        "1. Accuracy\n",
        "\n",
        "*   Train: 95%\n",
        "*   Test: 85%\n",
        "\n",
        "2. Motivation\n",
        "\n",
        "*   What in this model's structure makes it suited for representing sentiment?\n",
        "\n",
        "\n",
        "\n",
        "*   How well you evaluate the accuracy you got for each model?\n",
        "\n",
        "\n",
        "\n",
        "*   Discuss the main advantages and disadvantages the model has in the particular modelling task.\n",
        "\n",
        "\n",
        "\n",
        "3. Consistency\n",
        "\n",
        "*   What you have learned from your analyses.\n",
        "\n",
        "\n",
        "\n",
        "*   Also, analyze when the model is good and when and where it does not predict well."
      ]
    },
    {
      "cell_type": "markdown",
      "metadata": {
        "id": "ZBd-ryDJry6q"
      },
      "source": [
        "# 2. LSTM model\n"
      ]
    },
    {
      "cell_type": "code",
      "metadata": {
        "id": "lkL04_q9k9wX"
      },
      "source": [
        "df['length']=df['cleaned_text'].str.split().apply(len)"
      ],
      "execution_count": 19,
      "outputs": []
    },
    {
      "cell_type": "code",
      "metadata": {
        "colab": {
          "base_uri": "https://localhost:8080/"
        },
        "id": "uvGElbiRk9zH",
        "outputId": "ae01bf47-8f17-4d3a-89fd-0b65e78e0308"
      },
      "source": [
        "df['length'].describe()"
      ],
      "execution_count": 20,
      "outputs": [
        {
          "output_type": "execute_result",
          "data": {
            "text/plain": [
              "count    50000.000000\n",
              "mean     131.139260  \n",
              "std      97.021983   \n",
              "min      4.000000    \n",
              "25%      71.000000   \n",
              "50%      98.000000   \n",
              "75%      159.000000  \n",
              "max      1492.000000 \n",
              "Name: length, dtype: float64"
            ]
          },
          "metadata": {
            "tags": []
          },
          "execution_count": 20
        }
      ]
    },
    {
      "cell_type": "code",
      "metadata": {
        "colab": {
          "base_uri": "https://localhost:8080/"
        },
        "id": "zp2s4bTuk91L",
        "outputId": "78e27c65-ef95-42fa-c59f-fcf3da563ae3"
      },
      "source": [
        "maxlen = 200 # more than 75% of reviews have length greater than 159. \n",
        "vocab_size = 2000\n",
        "oov_token = \"<OOV>\"\n",
        "padding_type = \"post\"\n",
        "trunction_type= \"post\"\n",
        "\n",
        "# tokenize text into numbers\n",
        "tokenizer = Tokenizer(num_words=vocab_size, oov_token=oov_token, lower=False)\n",
        "tokenizer.fit_on_texts(X_train)\n",
        "X_train_seq = tokenizer.texts_to_sequences(X_train)\n",
        "X_valid_seq = tokenizer.texts_to_sequences(X_valid)\n",
        "X_test_seq = tokenizer.texts_to_sequences(X_test)\n",
        "\n",
        "# pad sequences\n",
        "X_train_lstm_padded = sequence.pad_sequences(X_train_seq, maxlen=maxlen, padding=padding_type, truncating=trunction_type)\n",
        "X_valid_lstm_padded = sequence.pad_sequences(X_valid_seq, maxlen=maxlen, padding=padding_type, truncating=trunction_type)\n",
        "X_test_lstm_padded = sequence.pad_sequences(X_test_seq, maxlen=maxlen, padding=padding_type, truncating=trunction_type)\n",
        "\n",
        "total_words = len(tokenizer.word_index) + 1   # add 1 because of 0 padding\n",
        "word_index = tokenizer.word_index\n",
        "print('Encoded X Train Shape ', X_train_lstm_padded.shape, '\\n')\n",
        "print('Encoded X Valid Shape ', X_test_lstm_padded.shape, '\\n')\n",
        "print('Encoded X Test Shape ', X_test_lstm_padded.shape, '\\n')\n",
        "print('Maximum review length: ', maxlen, '\\n')"
      ],
      "execution_count": 21,
      "outputs": [
        {
          "output_type": "stream",
          "text": [
            "Encoded X Train Shape  (40500, 200) \n",
            "\n",
            "Encoded X Valid Shape  (5000, 200) \n",
            "\n",
            "Encoded X Test Shape  (5000, 200) \n",
            "\n",
            "Maximum review length:  200 \n",
            "\n"
          ],
          "name": "stdout"
        }
      ]
    },
    {
      "cell_type": "code",
      "metadata": {
        "colab": {
          "base_uri": "https://localhost:8080/"
        },
        "id": "wviavXimnOzH",
        "outputId": "d93a44c4-4e9e-4be0-9af4-e149b6a452f1"
      },
      "source": [
        "# Model Parameters\n",
        "EMBED_DIM = 200\n",
        "LSTM_UNITS = 64\n",
        "# Training Settings\n",
        "batch_size = 128\n",
        "epochs = 5\n",
        "# Build Model\n",
        "model = Sequential()\n",
        "model.add(Embedding(input_dim = total_words, \n",
        "                    output_dim = EMBED_DIM, \n",
        "                    input_length = maxlen))\n",
        "model.add(Bidirectional(LSTM(LSTM_UNITS, return_sequences=True)))\n",
        "model.add(Bidirectional(LSTM(LSTM_UNITS, return_sequences=True)))\n",
        "model.add(Bidirectional(LSTM(LSTM_UNITS,)))\n",
        "model.add(Dense(8, activation='relu'))\n",
        "model.add(Dense(1, activation='sigmoid'))\n",
        "# Compile Model\n",
        "model.compile(optimizer = 'adam', \n",
        "              loss = 'binary_crossentropy', \n",
        "              metrics = 'accuracy')\n",
        "# Model Summary\n",
        "print(model.summary())"
      ],
      "execution_count": 22,
      "outputs": [
        {
          "output_type": "stream",
          "text": [
            "Model: \"sequential\"\n",
            "_________________________________________________________________\n",
            "Layer (type)                 Output Shape              Param #   \n",
            "=================================================================\n",
            "embedding (Embedding)        (None, 200, 200)          17232200  \n",
            "_________________________________________________________________\n",
            "bidirectional (Bidirectional (None, 200, 128)          135680    \n",
            "_________________________________________________________________\n",
            "bidirectional_1 (Bidirection (None, 200, 128)          98816     \n",
            "_________________________________________________________________\n",
            "bidirectional_2 (Bidirection (None, 128)               98816     \n",
            "_________________________________________________________________\n",
            "dense (Dense)                (None, 8)                 1032      \n",
            "_________________________________________________________________\n",
            "dense_1 (Dense)              (None, 1)                 9         \n",
            "=================================================================\n",
            "Total params: 17,566,553\n",
            "Trainable params: 17,566,553\n",
            "Non-trainable params: 0\n",
            "_________________________________________________________________\n",
            "None\n"
          ],
          "name": "stdout"
        }
      ]
    },
    {
      "cell_type": "code",
      "metadata": {
        "colab": {
          "base_uri": "https://localhost:8080/",
          "height": 370
        },
        "id": "XlcSIGAQn4HR",
        "outputId": "7d695a5a-662b-497a-a1b4-f45ad352fe9b"
      },
      "source": [
        "# Train Model\n",
        "tf.keras.backend.clear_session()\n",
        "history = model.fit(X_train_lstm_padded, \n",
        "                    y_train, \n",
        "                    batch_size = batch_size, \n",
        "                    epochs = epochs, \n",
        "                    validation_data=(X_valid_lstm_padded, y_valid))"
      ],
      "execution_count": 23,
      "outputs": [
        {
          "output_type": "stream",
          "text": [
            "Epoch 1/5\n",
            "317/317 [==============================] - ETA: 0s - loss: 0.3886 - accuracy: 0.8233"
          ],
          "name": "stdout"
        },
        {
          "output_type": "error",
          "ename": "KeyboardInterrupt",
          "evalue": "ignored",
          "traceback": [
            "\u001b[0;31m---------------------------------------------------------------------------\u001b[0m",
            "\u001b[0;31mKeyboardInterrupt\u001b[0m                         Traceback (most recent call last)",
            "\u001b[0;32m<ipython-input-23-07ddbe1027b4>\u001b[0m in \u001b[0;36m<module>\u001b[0;34m()\u001b[0m\n\u001b[1;32m      5\u001b[0m                     \u001b[0mbatch_size\u001b[0m \u001b[0;34m=\u001b[0m \u001b[0mbatch_size\u001b[0m\u001b[0;34m,\u001b[0m\u001b[0;34m\u001b[0m\u001b[0;34m\u001b[0m\u001b[0m\n\u001b[1;32m      6\u001b[0m                     \u001b[0mepochs\u001b[0m \u001b[0;34m=\u001b[0m \u001b[0mepochs\u001b[0m\u001b[0;34m,\u001b[0m\u001b[0;34m\u001b[0m\u001b[0;34m\u001b[0m\u001b[0m\n\u001b[0;32m----> 7\u001b[0;31m                     validation_data=(X_valid_lstm_padded, y_valid))\n\u001b[0m",
            "\u001b[0;32m/usr/local/lib/python3.6/dist-packages/tensorflow/python/keras/engine/training.py\u001b[0m in \u001b[0;36m_method_wrapper\u001b[0;34m(self, *args, **kwargs)\u001b[0m\n\u001b[1;32m    106\u001b[0m   \u001b[0;32mdef\u001b[0m \u001b[0m_method_wrapper\u001b[0m\u001b[0;34m(\u001b[0m\u001b[0mself\u001b[0m\u001b[0;34m,\u001b[0m \u001b[0;34m*\u001b[0m\u001b[0margs\u001b[0m\u001b[0;34m,\u001b[0m \u001b[0;34m**\u001b[0m\u001b[0mkwargs\u001b[0m\u001b[0;34m)\u001b[0m\u001b[0;34m:\u001b[0m\u001b[0;34m\u001b[0m\u001b[0;34m\u001b[0m\u001b[0m\n\u001b[1;32m    107\u001b[0m     \u001b[0;32mif\u001b[0m \u001b[0;32mnot\u001b[0m \u001b[0mself\u001b[0m\u001b[0;34m.\u001b[0m\u001b[0m_in_multi_worker_mode\u001b[0m\u001b[0;34m(\u001b[0m\u001b[0;34m)\u001b[0m\u001b[0;34m:\u001b[0m  \u001b[0;31m# pylint: disable=protected-access\u001b[0m\u001b[0;34m\u001b[0m\u001b[0;34m\u001b[0m\u001b[0m\n\u001b[0;32m--> 108\u001b[0;31m       \u001b[0;32mreturn\u001b[0m \u001b[0mmethod\u001b[0m\u001b[0;34m(\u001b[0m\u001b[0mself\u001b[0m\u001b[0;34m,\u001b[0m \u001b[0;34m*\u001b[0m\u001b[0margs\u001b[0m\u001b[0;34m,\u001b[0m \u001b[0;34m**\u001b[0m\u001b[0mkwargs\u001b[0m\u001b[0;34m)\u001b[0m\u001b[0;34m\u001b[0m\u001b[0;34m\u001b[0m\u001b[0m\n\u001b[0m\u001b[1;32m    109\u001b[0m \u001b[0;34m\u001b[0m\u001b[0m\n\u001b[1;32m    110\u001b[0m     \u001b[0;31m# Running inside `run_distribute_coordinator` already.\u001b[0m\u001b[0;34m\u001b[0m\u001b[0;34m\u001b[0m\u001b[0;34m\u001b[0m\u001b[0m\n",
            "\u001b[0;32m/usr/local/lib/python3.6/dist-packages/tensorflow/python/keras/engine/training.py\u001b[0m in \u001b[0;36mfit\u001b[0;34m(self, x, y, batch_size, epochs, verbose, callbacks, validation_split, validation_data, shuffle, class_weight, sample_weight, initial_epoch, steps_per_epoch, validation_steps, validation_batch_size, validation_freq, max_queue_size, workers, use_multiprocessing)\u001b[0m\n\u001b[1;32m   1131\u001b[0m               \u001b[0mworkers\u001b[0m\u001b[0;34m=\u001b[0m\u001b[0mworkers\u001b[0m\u001b[0;34m,\u001b[0m\u001b[0;34m\u001b[0m\u001b[0;34m\u001b[0m\u001b[0m\n\u001b[1;32m   1132\u001b[0m               \u001b[0muse_multiprocessing\u001b[0m\u001b[0;34m=\u001b[0m\u001b[0muse_multiprocessing\u001b[0m\u001b[0;34m,\u001b[0m\u001b[0;34m\u001b[0m\u001b[0;34m\u001b[0m\u001b[0m\n\u001b[0;32m-> 1133\u001b[0;31m               return_dict=True)\n\u001b[0m\u001b[1;32m   1134\u001b[0m           \u001b[0mval_logs\u001b[0m \u001b[0;34m=\u001b[0m \u001b[0;34m{\u001b[0m\u001b[0;34m'val_'\u001b[0m \u001b[0;34m+\u001b[0m \u001b[0mname\u001b[0m\u001b[0;34m:\u001b[0m \u001b[0mval\u001b[0m \u001b[0;32mfor\u001b[0m \u001b[0mname\u001b[0m\u001b[0;34m,\u001b[0m \u001b[0mval\u001b[0m \u001b[0;32min\u001b[0m \u001b[0mval_logs\u001b[0m\u001b[0;34m.\u001b[0m\u001b[0mitems\u001b[0m\u001b[0;34m(\u001b[0m\u001b[0;34m)\u001b[0m\u001b[0;34m}\u001b[0m\u001b[0;34m\u001b[0m\u001b[0;34m\u001b[0m\u001b[0m\n\u001b[1;32m   1135\u001b[0m           \u001b[0mepoch_logs\u001b[0m\u001b[0;34m.\u001b[0m\u001b[0mupdate\u001b[0m\u001b[0;34m(\u001b[0m\u001b[0mval_logs\u001b[0m\u001b[0;34m)\u001b[0m\u001b[0;34m\u001b[0m\u001b[0;34m\u001b[0m\u001b[0m\n",
            "\u001b[0;32m/usr/local/lib/python3.6/dist-packages/tensorflow/python/keras/engine/training.py\u001b[0m in \u001b[0;36m_method_wrapper\u001b[0;34m(self, *args, **kwargs)\u001b[0m\n\u001b[1;32m    106\u001b[0m   \u001b[0;32mdef\u001b[0m \u001b[0m_method_wrapper\u001b[0m\u001b[0;34m(\u001b[0m\u001b[0mself\u001b[0m\u001b[0;34m,\u001b[0m \u001b[0;34m*\u001b[0m\u001b[0margs\u001b[0m\u001b[0;34m,\u001b[0m \u001b[0;34m**\u001b[0m\u001b[0mkwargs\u001b[0m\u001b[0;34m)\u001b[0m\u001b[0;34m:\u001b[0m\u001b[0;34m\u001b[0m\u001b[0;34m\u001b[0m\u001b[0m\n\u001b[1;32m    107\u001b[0m     \u001b[0;32mif\u001b[0m \u001b[0;32mnot\u001b[0m \u001b[0mself\u001b[0m\u001b[0;34m.\u001b[0m\u001b[0m_in_multi_worker_mode\u001b[0m\u001b[0;34m(\u001b[0m\u001b[0;34m)\u001b[0m\u001b[0;34m:\u001b[0m  \u001b[0;31m# pylint: disable=protected-access\u001b[0m\u001b[0;34m\u001b[0m\u001b[0;34m\u001b[0m\u001b[0m\n\u001b[0;32m--> 108\u001b[0;31m       \u001b[0;32mreturn\u001b[0m \u001b[0mmethod\u001b[0m\u001b[0;34m(\u001b[0m\u001b[0mself\u001b[0m\u001b[0;34m,\u001b[0m \u001b[0;34m*\u001b[0m\u001b[0margs\u001b[0m\u001b[0;34m,\u001b[0m \u001b[0;34m**\u001b[0m\u001b[0mkwargs\u001b[0m\u001b[0;34m)\u001b[0m\u001b[0;34m\u001b[0m\u001b[0;34m\u001b[0m\u001b[0m\n\u001b[0m\u001b[1;32m    109\u001b[0m \u001b[0;34m\u001b[0m\u001b[0m\n\u001b[1;32m    110\u001b[0m     \u001b[0;31m# Running inside `run_distribute_coordinator` already.\u001b[0m\u001b[0;34m\u001b[0m\u001b[0;34m\u001b[0m\u001b[0;34m\u001b[0m\u001b[0m\n",
            "\u001b[0;32m/usr/local/lib/python3.6/dist-packages/tensorflow/python/keras/engine/training.py\u001b[0m in \u001b[0;36mevaluate\u001b[0;34m(self, x, y, batch_size, verbose, sample_weight, steps, callbacks, max_queue_size, workers, use_multiprocessing, return_dict)\u001b[0m\n\u001b[1;32m   1377\u001b[0m             \u001b[0;32mwith\u001b[0m \u001b[0mtrace\u001b[0m\u001b[0;34m.\u001b[0m\u001b[0mTrace\u001b[0m\u001b[0;34m(\u001b[0m\u001b[0;34m'TraceContext'\u001b[0m\u001b[0;34m,\u001b[0m \u001b[0mgraph_type\u001b[0m\u001b[0;34m=\u001b[0m\u001b[0;34m'test'\u001b[0m\u001b[0;34m,\u001b[0m \u001b[0mstep_num\u001b[0m\u001b[0;34m=\u001b[0m\u001b[0mstep\u001b[0m\u001b[0;34m)\u001b[0m\u001b[0;34m:\u001b[0m\u001b[0;34m\u001b[0m\u001b[0;34m\u001b[0m\u001b[0m\n\u001b[1;32m   1378\u001b[0m               \u001b[0mcallbacks\u001b[0m\u001b[0;34m.\u001b[0m\u001b[0mon_test_batch_begin\u001b[0m\u001b[0;34m(\u001b[0m\u001b[0mstep\u001b[0m\u001b[0;34m)\u001b[0m\u001b[0;34m\u001b[0m\u001b[0;34m\u001b[0m\u001b[0m\n\u001b[0;32m-> 1379\u001b[0;31m               \u001b[0mtmp_logs\u001b[0m \u001b[0;34m=\u001b[0m \u001b[0mtest_function\u001b[0m\u001b[0;34m(\u001b[0m\u001b[0miterator\u001b[0m\u001b[0;34m)\u001b[0m\u001b[0;34m\u001b[0m\u001b[0;34m\u001b[0m\u001b[0m\n\u001b[0m\u001b[1;32m   1380\u001b[0m               \u001b[0;32mif\u001b[0m \u001b[0mdata_handler\u001b[0m\u001b[0;34m.\u001b[0m\u001b[0mshould_sync\u001b[0m\u001b[0;34m:\u001b[0m\u001b[0;34m\u001b[0m\u001b[0;34m\u001b[0m\u001b[0m\n\u001b[1;32m   1381\u001b[0m                 \u001b[0mcontext\u001b[0m\u001b[0;34m.\u001b[0m\u001b[0masync_wait\u001b[0m\u001b[0;34m(\u001b[0m\u001b[0;34m)\u001b[0m\u001b[0;34m\u001b[0m\u001b[0;34m\u001b[0m\u001b[0m\n",
            "\u001b[0;32m/usr/local/lib/python3.6/dist-packages/tensorflow/python/eager/def_function.py\u001b[0m in \u001b[0;36m__call__\u001b[0;34m(self, *args, **kwds)\u001b[0m\n\u001b[1;32m    778\u001b[0m       \u001b[0;32melse\u001b[0m\u001b[0;34m:\u001b[0m\u001b[0;34m\u001b[0m\u001b[0;34m\u001b[0m\u001b[0m\n\u001b[1;32m    779\u001b[0m         \u001b[0mcompiler\u001b[0m \u001b[0;34m=\u001b[0m \u001b[0;34m\"nonXla\"\u001b[0m\u001b[0;34m\u001b[0m\u001b[0;34m\u001b[0m\u001b[0m\n\u001b[0;32m--> 780\u001b[0;31m         \u001b[0mresult\u001b[0m \u001b[0;34m=\u001b[0m \u001b[0mself\u001b[0m\u001b[0;34m.\u001b[0m\u001b[0m_call\u001b[0m\u001b[0;34m(\u001b[0m\u001b[0;34m*\u001b[0m\u001b[0margs\u001b[0m\u001b[0;34m,\u001b[0m \u001b[0;34m**\u001b[0m\u001b[0mkwds\u001b[0m\u001b[0;34m)\u001b[0m\u001b[0;34m\u001b[0m\u001b[0;34m\u001b[0m\u001b[0m\n\u001b[0m\u001b[1;32m    781\u001b[0m \u001b[0;34m\u001b[0m\u001b[0m\n\u001b[1;32m    782\u001b[0m       \u001b[0mnew_tracing_count\u001b[0m \u001b[0;34m=\u001b[0m \u001b[0mself\u001b[0m\u001b[0;34m.\u001b[0m\u001b[0m_get_tracing_count\u001b[0m\u001b[0;34m(\u001b[0m\u001b[0;34m)\u001b[0m\u001b[0;34m\u001b[0m\u001b[0;34m\u001b[0m\u001b[0m\n",
            "\u001b[0;32m/usr/local/lib/python3.6/dist-packages/tensorflow/python/eager/def_function.py\u001b[0m in \u001b[0;36m_call\u001b[0;34m(self, *args, **kwds)\u001b[0m\n\u001b[1;32m    812\u001b[0m       \u001b[0;31m# In this case we have not created variables on the first call. So we can\u001b[0m\u001b[0;34m\u001b[0m\u001b[0;34m\u001b[0m\u001b[0;34m\u001b[0m\u001b[0m\n\u001b[1;32m    813\u001b[0m       \u001b[0;31m# run the first trace but we should fail if variables are created.\u001b[0m\u001b[0;34m\u001b[0m\u001b[0;34m\u001b[0m\u001b[0;34m\u001b[0m\u001b[0m\n\u001b[0;32m--> 814\u001b[0;31m       \u001b[0mresults\u001b[0m \u001b[0;34m=\u001b[0m \u001b[0mself\u001b[0m\u001b[0;34m.\u001b[0m\u001b[0m_stateful_fn\u001b[0m\u001b[0;34m(\u001b[0m\u001b[0;34m*\u001b[0m\u001b[0margs\u001b[0m\u001b[0;34m,\u001b[0m \u001b[0;34m**\u001b[0m\u001b[0mkwds\u001b[0m\u001b[0;34m)\u001b[0m\u001b[0;34m\u001b[0m\u001b[0;34m\u001b[0m\u001b[0m\n\u001b[0m\u001b[1;32m    815\u001b[0m       \u001b[0;32mif\u001b[0m \u001b[0mself\u001b[0m\u001b[0;34m.\u001b[0m\u001b[0m_created_variables\u001b[0m\u001b[0;34m:\u001b[0m\u001b[0;34m\u001b[0m\u001b[0;34m\u001b[0m\u001b[0m\n\u001b[1;32m    816\u001b[0m         raise ValueError(\"Creating variables on a non-first call to a function\"\n",
            "\u001b[0;32m/usr/local/lib/python3.6/dist-packages/tensorflow/python/eager/function.py\u001b[0m in \u001b[0;36m__call__\u001b[0;34m(self, *args, **kwargs)\u001b[0m\n\u001b[1;32m   2827\u001b[0m     \u001b[0;32mwith\u001b[0m \u001b[0mself\u001b[0m\u001b[0;34m.\u001b[0m\u001b[0m_lock\u001b[0m\u001b[0;34m:\u001b[0m\u001b[0;34m\u001b[0m\u001b[0;34m\u001b[0m\u001b[0m\n\u001b[1;32m   2828\u001b[0m       \u001b[0mgraph_function\u001b[0m\u001b[0;34m,\u001b[0m \u001b[0margs\u001b[0m\u001b[0;34m,\u001b[0m \u001b[0mkwargs\u001b[0m \u001b[0;34m=\u001b[0m \u001b[0mself\u001b[0m\u001b[0;34m.\u001b[0m\u001b[0m_maybe_define_function\u001b[0m\u001b[0;34m(\u001b[0m\u001b[0margs\u001b[0m\u001b[0;34m,\u001b[0m \u001b[0mkwargs\u001b[0m\u001b[0;34m)\u001b[0m\u001b[0;34m\u001b[0m\u001b[0;34m\u001b[0m\u001b[0m\n\u001b[0;32m-> 2829\u001b[0;31m     \u001b[0;32mreturn\u001b[0m \u001b[0mgraph_function\u001b[0m\u001b[0;34m.\u001b[0m\u001b[0m_filtered_call\u001b[0m\u001b[0;34m(\u001b[0m\u001b[0margs\u001b[0m\u001b[0;34m,\u001b[0m \u001b[0mkwargs\u001b[0m\u001b[0;34m)\u001b[0m  \u001b[0;31m# pylint: disable=protected-access\u001b[0m\u001b[0;34m\u001b[0m\u001b[0;34m\u001b[0m\u001b[0m\n\u001b[0m\u001b[1;32m   2830\u001b[0m \u001b[0;34m\u001b[0m\u001b[0m\n\u001b[1;32m   2831\u001b[0m   \u001b[0;34m@\u001b[0m\u001b[0mproperty\u001b[0m\u001b[0;34m\u001b[0m\u001b[0;34m\u001b[0m\u001b[0m\n",
            "\u001b[0;32m/usr/local/lib/python3.6/dist-packages/tensorflow/python/eager/function.py\u001b[0m in \u001b[0;36m_filtered_call\u001b[0;34m(self, args, kwargs, cancellation_manager)\u001b[0m\n\u001b[1;32m   1846\u001b[0m                            resource_variable_ops.BaseResourceVariable))],\n\u001b[1;32m   1847\u001b[0m         \u001b[0mcaptured_inputs\u001b[0m\u001b[0;34m=\u001b[0m\u001b[0mself\u001b[0m\u001b[0;34m.\u001b[0m\u001b[0mcaptured_inputs\u001b[0m\u001b[0;34m,\u001b[0m\u001b[0;34m\u001b[0m\u001b[0;34m\u001b[0m\u001b[0m\n\u001b[0;32m-> 1848\u001b[0;31m         cancellation_manager=cancellation_manager)\n\u001b[0m\u001b[1;32m   1849\u001b[0m \u001b[0;34m\u001b[0m\u001b[0m\n\u001b[1;32m   1850\u001b[0m   \u001b[0;32mdef\u001b[0m \u001b[0m_call_flat\u001b[0m\u001b[0;34m(\u001b[0m\u001b[0mself\u001b[0m\u001b[0;34m,\u001b[0m \u001b[0margs\u001b[0m\u001b[0;34m,\u001b[0m \u001b[0mcaptured_inputs\u001b[0m\u001b[0;34m,\u001b[0m \u001b[0mcancellation_manager\u001b[0m\u001b[0;34m=\u001b[0m\u001b[0;32mNone\u001b[0m\u001b[0;34m)\u001b[0m\u001b[0;34m:\u001b[0m\u001b[0;34m\u001b[0m\u001b[0;34m\u001b[0m\u001b[0m\n",
            "\u001b[0;32m/usr/local/lib/python3.6/dist-packages/tensorflow/python/eager/function.py\u001b[0m in \u001b[0;36m_call_flat\u001b[0;34m(self, args, captured_inputs, cancellation_manager)\u001b[0m\n\u001b[1;32m   1922\u001b[0m       \u001b[0;31m# No tape is watching; skip to running the function.\u001b[0m\u001b[0;34m\u001b[0m\u001b[0;34m\u001b[0m\u001b[0;34m\u001b[0m\u001b[0m\n\u001b[1;32m   1923\u001b[0m       return self._build_call_outputs(self._inference_function.call(\n\u001b[0;32m-> 1924\u001b[0;31m           ctx, args, cancellation_manager=cancellation_manager))\n\u001b[0m\u001b[1;32m   1925\u001b[0m     forward_backward = self._select_forward_and_backward_functions(\n\u001b[1;32m   1926\u001b[0m         \u001b[0margs\u001b[0m\u001b[0;34m,\u001b[0m\u001b[0;34m\u001b[0m\u001b[0;34m\u001b[0m\u001b[0m\n",
            "\u001b[0;32m/usr/local/lib/python3.6/dist-packages/tensorflow/python/eager/function.py\u001b[0m in \u001b[0;36mcall\u001b[0;34m(self, ctx, args, cancellation_manager)\u001b[0m\n\u001b[1;32m    548\u001b[0m               \u001b[0minputs\u001b[0m\u001b[0;34m=\u001b[0m\u001b[0margs\u001b[0m\u001b[0;34m,\u001b[0m\u001b[0;34m\u001b[0m\u001b[0;34m\u001b[0m\u001b[0m\n\u001b[1;32m    549\u001b[0m               \u001b[0mattrs\u001b[0m\u001b[0;34m=\u001b[0m\u001b[0mattrs\u001b[0m\u001b[0;34m,\u001b[0m\u001b[0;34m\u001b[0m\u001b[0;34m\u001b[0m\u001b[0m\n\u001b[0;32m--> 550\u001b[0;31m               ctx=ctx)\n\u001b[0m\u001b[1;32m    551\u001b[0m         \u001b[0;32melse\u001b[0m\u001b[0;34m:\u001b[0m\u001b[0;34m\u001b[0m\u001b[0;34m\u001b[0m\u001b[0m\n\u001b[1;32m    552\u001b[0m           outputs = execute.execute_with_cancellation(\n",
            "\u001b[0;32m/usr/local/lib/python3.6/dist-packages/tensorflow/python/eager/execute.py\u001b[0m in \u001b[0;36mquick_execute\u001b[0;34m(op_name, num_outputs, inputs, attrs, ctx, name)\u001b[0m\n\u001b[1;32m     58\u001b[0m     \u001b[0mctx\u001b[0m\u001b[0;34m.\u001b[0m\u001b[0mensure_initialized\u001b[0m\u001b[0;34m(\u001b[0m\u001b[0;34m)\u001b[0m\u001b[0;34m\u001b[0m\u001b[0;34m\u001b[0m\u001b[0m\n\u001b[1;32m     59\u001b[0m     tensors = pywrap_tfe.TFE_Py_Execute(ctx._handle, device_name, op_name,\n\u001b[0;32m---> 60\u001b[0;31m                                         inputs, attrs, num_outputs)\n\u001b[0m\u001b[1;32m     61\u001b[0m   \u001b[0;32mexcept\u001b[0m \u001b[0mcore\u001b[0m\u001b[0;34m.\u001b[0m\u001b[0m_NotOkStatusException\u001b[0m \u001b[0;32mas\u001b[0m \u001b[0me\u001b[0m\u001b[0;34m:\u001b[0m\u001b[0;34m\u001b[0m\u001b[0;34m\u001b[0m\u001b[0m\n\u001b[1;32m     62\u001b[0m     \u001b[0;32mif\u001b[0m \u001b[0mname\u001b[0m \u001b[0;32mis\u001b[0m \u001b[0;32mnot\u001b[0m \u001b[0;32mNone\u001b[0m\u001b[0;34m:\u001b[0m\u001b[0;34m\u001b[0m\u001b[0;34m\u001b[0m\u001b[0m\n",
            "\u001b[0;31mKeyboardInterrupt\u001b[0m: "
          ]
        }
      ]
    },
    {
      "cell_type": "code",
      "metadata": {
        "id": "1q-nfs_Hpim_"
      },
      "source": [
        "# Evaluate Model\n",
        "y_pred = (model.predict(X_test_lstm_padded, batch_size = batch_size)> 0.5).astype(\"int32\")\n",
        "score_lstm = accuracy_score(y_true=y_test, y_pred=y_pred)\n",
        "print(f\"train accuracy: {history.history['accuracy'][-1]}\")\n",
        "print(f'test accuracy: {score_lstm}')"
      ],
      "execution_count": null,
      "outputs": []
    },
    {
      "cell_type": "code",
      "metadata": {
        "id": "Iep26tYmN7eX"
      },
      "source": [
        "df_error_analysis.insert(1, \"prediction_lstm\", y_pred)"
      ],
      "execution_count": null,
      "outputs": []
    },
    {
      "cell_type": "code",
      "metadata": {
        "id": "TqPRQiH7OApn"
      },
      "source": [
        "df_error_analysis[df_error_analysis['label']!=df_error_analysis['prediction_lstm']]"
      ],
      "execution_count": null,
      "outputs": []
    },
    {
      "cell_type": "markdown",
      "metadata": {
        "id": "Fp_42o9nD5t7"
      },
      "source": [
        "1. Accuracy\n",
        "\n",
        "*   Train: 89%\n",
        "*   Test: 87%\n",
        "\n",
        "2. Motivation\n",
        "\n",
        "*   What in this model's structure makes it suited for representing sentiment?\n",
        "\n",
        "\n",
        "\n",
        "*   How well you evaluate the accuracy you got for each model?\n",
        "\n",
        "\n",
        "\n",
        "*   Discuss the main advantages and disadvantages the model has in the particular modelling task.\n",
        "\n",
        "\n",
        "\n",
        "3. Consistency\n",
        "\n",
        "*   What you have learned from your analyses.\n",
        "\n",
        "\n",
        "\n",
        "*   Also, analyze when the model is good and when and where it does not predict well."
      ]
    },
    {
      "cell_type": "markdown",
      "metadata": {
        "id": "zqDWlpr0ry9m"
      },
      "source": [
        "# 3. LSTM model with pre-trained embedding\n"
      ]
    },
    {
      "cell_type": "code",
      "metadata": {
        "id": "2aV2uKk98Eto"
      },
      "source": [
        "from pathlib import Path\n",
        "\n",
        "# Glove file\n",
        "my_file = Path(\"glove.6B.zip\")\n",
        "if my_file.is_file():\n",
        "    pass\n",
        "else:\n",
        "    !wget http://nlp.stanford.edu/data/glove.6B.zip\n",
        "    !unzip glove.6B.zip\n",
        "    !ls"
      ],
      "execution_count": null,
      "outputs": []
    },
    {
      "cell_type": "code",
      "metadata": {
        "id": "QBSyQTDhS-Ox"
      },
      "source": [
        "embeddings_index = {}\n",
        "with open('glove.6B.200d.txt') as f:\n",
        "    for line in f:\n",
        "        values = line.split()\n",
        "        word = values[0]\n",
        "        coefs = np.asarray(values[1:], dtype='float32')\n",
        "        embeddings_index[word] = coefs\n",
        "\n",
        "print('Found %s word vectors.' % len(embeddings_index))"
      ],
      "execution_count": null,
      "outputs": []
    },
    {
      "cell_type": "code",
      "metadata": {
        "id": "fIMvB4fOThlV"
      },
      "source": [
        "embedding_matrix = np.zeros((len(word_index) + 1, maxlen))\n",
        "for word, i in word_index.items():\n",
        "    embedding_vector = embeddings_index.get(word)\n",
        "    if embedding_vector is not None:\n",
        "        # words not found in embedding index will be all-zeros.\n",
        "        embedding_matrix[i] = embedding_vector"
      ],
      "execution_count": null,
      "outputs": []
    },
    {
      "cell_type": "code",
      "metadata": {
        "id": "_uaZ6-rMK_YH"
      },
      "source": [
        "# Build model\n",
        "model_glove = Sequential()\n",
        "model_glove.add(Embedding(input_dim = total_words, \n",
        "                          output_dim = 200, \n",
        "                          input_length = maxlen,\n",
        "                          weights=[embedding_matrix], \n",
        "                          trainable=False))\n",
        "model_glove.add(Bidirectional(LSTM(LSTM_UNITS*2, return_sequences=True)))\n",
        "model_glove.add(Bidirectional(LSTM(LSTM_UNITS*2, return_sequences=True)))\n",
        "model_glove.add(Bidirectional(LSTM(LSTM_UNITS,)))\n",
        "model_glove.add(Dense(8, activation='relu'))\n",
        "model_glove.add(Dense(1, activation='sigmoid'))\n",
        "\n",
        "# Compile model\n",
        "model_glove.compile(loss='binary_crossentropy',\n",
        "                    optimizer='adam',\n",
        "                    metrics='accuracy')\n",
        "\n",
        "model_glove.summary()"
      ],
      "execution_count": null,
      "outputs": []
    },
    {
      "cell_type": "code",
      "metadata": {
        "id": "i3kZrOvQBm38"
      },
      "source": [
        "# Train model\n",
        "tf.keras.backend.clear_session()\n",
        "history_glove=model_glove.fit(X_train_lstm_padded, \n",
        "                y_train, \n",
        "                batch_size = batch_size, \n",
        "                epochs = epochs, \n",
        "                validation_data=(X_valid_lstm_padded, y_valid))"
      ],
      "execution_count": null,
      "outputs": []
    },
    {
      "cell_type": "code",
      "metadata": {
        "id": "B9uIlI09Bm6k"
      },
      "source": [
        "# Evaluate performance\n",
        "y_pred_glove = (model_glove.predict(X_test_lstm_padded, batch_size = batch_size)> 0.5).astype(\"int32\")\n",
        "\n",
        "score_lstm_glove = accuracy_score(y_true=y_test, y_pred=y_pred_glove)\n",
        "print(f'train accuracy: {history_glove.history[\"accuracy\"][-1]}')\n",
        "print(f'test accuracy: {score_lstm_glove}')"
      ],
      "execution_count": null,
      "outputs": []
    },
    {
      "cell_type": "code",
      "metadata": {
        "id": "8y9cilTiO1CF"
      },
      "source": [
        "df_error_analysis.insert(1, \"prediction_lstm_glove\", y_pred_glove)"
      ],
      "execution_count": null,
      "outputs": []
    },
    {
      "cell_type": "code",
      "metadata": {
        "id": "UU6Tdd8EO5u_"
      },
      "source": [
        "df_error_analysis[df_error_analysis['label']!=df_error_analysis['prediction_lstm_glove']]"
      ],
      "execution_count": null,
      "outputs": []
    },
    {
      "cell_type": "markdown",
      "metadata": {
        "id": "YpWZGzucD8-7"
      },
      "source": [
        "1. Accuracy\n",
        "\n",
        "*   Train: 84%\n",
        "*   Test: 80%\n",
        "\n",
        "2. Motivation\n",
        "\n",
        "*   What in this model's structure makes it suited for representing sentiment?\n",
        "\n",
        "\n",
        "\n",
        "*   How well you evaluate the accuracy you got for each model?\n",
        "\n",
        "\n",
        "\n",
        "*   Discuss the main advantages and disadvantages the model has in the particular modelling task.\n",
        "\n",
        "\n",
        "\n",
        "3. Consistency\n",
        "\n",
        "*   What you have learned from your analyses.\n",
        "\n",
        "\n",
        "\n",
        "*   Also, analyze when the model is good and when and where it does not predict well."
      ]
    },
    {
      "cell_type": "code",
      "metadata": {
        "id": "h8IdermVEK0s"
      },
      "source": [
        ""
      ],
      "execution_count": null,
      "outputs": []
    }
  ]
}